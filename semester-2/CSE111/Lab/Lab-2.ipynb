{
 "cells": [
  {
   "cell_type": "markdown",
   "metadata": {},
   "source": [
    "<!-- Class Task -->"
   ]
  },
  {
   "cell_type": "code",
   "execution_count": 8,
   "metadata": {},
   "outputs": [
    {
     "name": "stdout",
     "output_type": "stream",
     "text": [
      "Your score is 24.7 and you are normal weight\n"
     ]
    }
   ],
   "source": [
    "# Class Task \n",
    "\n",
    "# question-1\n",
    "\n",
    "def BMI(weight, height):\n",
    "    height=height/100\n",
    "    bmi = weight / (height * height)\n",
    "    bmi=round(bmi, 1)\n",
    "    if bmi < 18.5:\n",
    "        print(f\"Your score is {bmi} and you are underweight\")\n",
    "    elif bmi >= 18.5 and bmi < 25:\n",
    "        print(f\"Your score is {bmi} and you are normal weight\")\n",
    "    elif bmi >= 25 and bmi < 30:\n",
    "        print(f\"Your score is {bmi} and you are overweight\")\n",
    "    elif bmi >= 30:\n",
    "        print(f\"Your score is {bmi} and you are obese\")\n",
    "\n",
    "\n",
    "\n",
    "\n",
    "BMI(80, 180)\n",
    "\n"
   ]
  },
  {
   "cell_type": "code",
   "execution_count": 2,
   "metadata": {},
   "outputs": [
    {
     "name": "stdout",
     "output_type": "stream",
     "text": [
      "243.6\n"
     ]
    }
   ],
   "source": [
    "# Question-2\n",
    "\n",
    "def FoodPanda(item,area):\n",
    "    total_cost=0\n",
    "    if(item==\"BBQ Chicken Cheese Burger \"):\n",
    "        total_cost+=(250)+(250*0.08)\n",
    "    elif (item==\"Beef Burger\"):\n",
    "        total_cost+=(170)+(170*0.08)\n",
    "    else:\n",
    "        total_cost+=(200)+(200*0.08)\n",
    "    \n",
    "    if(area==\"Mohakhali\"):\n",
    "        total_cost+=40\n",
    "    else:\n",
    "        total_cost+=60\n",
    "    \n",
    "    return total_cost\n",
    "\n",
    "print(FoodPanda(\"Beef Burger\",\"Dhanmondi\"))\n",
    "    \n"
   ]
  },
  {
   "cell_type": "code",
   "execution_count": 31,
   "metadata": {},
   "outputs": [
    {
     "name": "stdout",
     "output_type": "stream",
     "text": [
      "Changed:alice@something\n"
     ]
    }
   ],
   "source": [
    "# Question-3\n",
    "def replace_domain(email, new_domain, old_domain=\"kaaj.com\"):\n",
    "    user, domain = email.split('@')\n",
    "    if domain == old_domain:\n",
    "        return f'Changed:{user}@{new_domain}'\n",
    "    else:\n",
    "        if(domain==new_domain):\n",
    "            return f'Unchanged:{email}'\n",
    "        else:\n",
    "            return f'Changed:{user}@{new_domain}'\n",
    "\n",
    "print(replace_domain(\"alice@sheba\",\"sheba\"))\n"
   ]
  },
  {
   "cell_type": "code",
   "execution_count": 22,
   "metadata": {},
   "outputs": [
    {
     "name": "stdout",
     "output_type": "stream",
     "text": [
      "palindrome\n"
     ]
    }
   ],
   "source": [
    "# question-4\n",
    "\n",
    "def is_palindorme(word):\n",
    "    new_word=\"\"\n",
    "    for i in word:\n",
    "        if(i==\" \"):\n",
    "            continue\n",
    "        new_word+=i\n",
    "    \n",
    "    for i in range((len(new_word)//2)):\n",
    "        if(new_word[i]!=new_word[-i-1]):\n",
    "            return False\n",
    "    return True\n",
    "        \n",
    "given=input()\n",
    "if(is_palindorme(given)):\n",
    "    print(\"palindrome\")\n",
    "else:\n",
    "    print(\"not a palindrome\")\n",
    "\n"
   ]
  },
  {
   "cell_type": "code",
   "execution_count": 23,
   "metadata": {},
   "outputs": [
    {
     "name": "stdout",
     "output_type": "stream",
     "text": [
      "11 years, 10 months and 5 days\n"
     ]
    }
   ],
   "source": [
    "# Question-5\n",
    "def converter(days):\n",
    "    years=days//365\n",
    "    days=days%365\n",
    "    months=days//30\n",
    "    days=days%30\n",
    "    return f\"{years} years, {months} months and {days} days\"\n",
    "print(converter(4320))"
   ]
  },
  {
   "cell_type": "code",
   "execution_count": 41,
   "metadata": {},
   "outputs": [
    {
     "name": "stdout",
     "output_type": "stream",
     "text": [
      "You have to write a function that reads a string from the user and capitalizes it. the string is I then returned and displayed.\n"
     ]
    }
   ],
   "source": [
    "# Question-6\n",
    "def capitalize_text(text):\n",
    "    result = ''\n",
    "    capitalize_next = True\n",
    "\n",
    "    for i in range(len(text)):\n",
    "        char=text[i]\n",
    "        if text[i] in '.!?':\n",
    "            capitalize_next = True\n",
    "        elif text[i] == 'i' and ((result[-1] in ' .!?')) and text[i+1] in ' .!?':\n",
    "            char = 'I'\n",
    "        elif capitalize_next and 'a' <= text[i] <= 'z':\n",
    "            char = chr(ord(text[i]) - ord('a') + ord('A'))\n",
    "            capitalize_next = False\n",
    "        else:\n",
    "            capitalize_next = False\n",
    "\n",
    "        result += char\n",
    "\n",
    "    return result\n",
    "\n",
    "# Test the function\n",
    "text = \"you have to write a function that reads a string from the user and capitalizes it. the string is i then returned and displayed.\"\n",
    "print(capitalize_text(text))"
   ]
  },
  {
   "cell_type": "code",
   "execution_count": 7,
   "metadata": {},
   "outputs": [
    {
     "name": "stdout",
     "output_type": "stream",
     "text": [
      "The maximum amount paid is 1200 by Steyn."
     ]
    }
   ],
   "source": [
    "# Home Task 1\n",
    "\n",
    "def hospital_fee(**kwargs):\n",
    "    max_amount=0\n",
    "    max_payer= []\n",
    "    for payer, amount in kwargs.items():\n",
    "        if amount > max_amount:\n",
    "            max_amount = amount\n",
    "            max_payer = [payer]\n",
    "        elif amount == max_amount:\n",
    "            max_payer.append(payer)\n",
    "    return max_amount,max_payer\n",
    "\n",
    "max_amount, max_payer = hospital_fee(Mashrafe =\n",
    "400, Bumrah = 900, Steyn = 1200, Cummins = 900,\n",
    "Wood = 400, Marsh = 700)\n",
    "print(f\"The maximum amount paid is {max_amount} by \", end='')\n",
    "for payer in range(len(max_payer)):\n",
    "    if(payer==len(max_payer)-1):\n",
    "        print(max_payer[payer],end='.')\n",
    "    else:\n",
    "        print(max_payer[payer], end=',')"
   ]
  },
  {
   "cell_type": "code",
   "execution_count": 11,
   "metadata": {},
   "outputs": [
    {
     "name": "stdout",
     "output_type": "stream",
     "text": [
      "True\n"
     ]
    }
   ],
   "source": [
    "# Home Task 2\n",
    "def is_james_bond(arr):\n",
    "    get=\"\"\n",
    "    for i in arr:\n",
    "        if(str(i) in \"007\"):\n",
    "            get+=str(i)\n",
    "    \n",
    "    if(\"007\" in get ):\n",
    "        print(\"True\")\n",
    "    else:\n",
    "        print(\"False\")\n",
    "is_james_bond( [1, 0, 2, 0, 4, 7, 5] )\n"
   ]
  },
  {
   "cell_type": "code",
   "execution_count": 14,
   "metadata": {},
   "outputs": [
    {
     "name": "stdout",
     "output_type": "stream",
     "text": [
      "{'A': ['Bob'], 'B': ['Charlie'], 'C': ['Grace'], 'D': ['Alice', 'David', 'Eve', 'Frank'], 'E': []}\n"
     ]
    }
   ],
   "source": [
    "# Home Task 3\n",
    "\n",
    "def assign_students_to_sections(section, *students):\n",
    "\n",
    "    dict={}\n",
    "    for i in section:\n",
    "        dict[i]=[]\n",
    "    for i in students:\n",
    "        helper=0\n",
    "        for j in i:\n",
    "            helper+=ord(j)\n",
    "        dict[section[helper%len(section)]].append(i)    \n",
    "    print(dict)\n",
    "\n",
    "assign_students_to_sections ('ABCDE', 'Alice',\n",
    "'Bob', 'Charlie', 'David', 'Eve', 'Frank', 'Grace')"
   ]
  },
  {
   "cell_type": "code",
   "execution_count": 1,
   "metadata": {},
   "outputs": [
    {
     "name": "stdout",
     "output_type": "stream",
     "text": [
      "MDmam_2564\n",
      "MDmam_2564\n"
     ]
    }
   ],
   "source": [
    "# Home Task 4\n",
    "\n",
    "def username_generator(first_name, last_name, student_id, middle_name=\"\"):\n",
    "    username = first_name[:3].upper() + middle_name + last_name[-3:].lower() + '_' + str(student_id)[-4:]\n",
    "    return username\n",
    "\n",
    "first_name, middle_name, last_name, student_id= input (\"First Name:\"), input(\"Middle Name:\"), input (\"Last Name:\"), int (input (\"Student ID:\"))\n",
    "print(username_generator (first_name, last_name, student_id))\n",
    "print(username_generator(first_name, last_name, student_id, middle_name))"
   ]
  },
  {
   "cell_type": "code",
   "execution_count": 3,
   "metadata": {},
   "outputs": [
    {
     "name": "stdout",
     "output_type": "stream",
     "text": [
      "Encryption keys: ['a101108X', 'b111B', 't100117114Y']\n"
     ]
    }
   ],
   "source": [
    "# Home Task 5\n",
    "def key_generator(*names):\n",
    "    keys = []\n",
    "    for name in names:\n",
    "        first_char = name[0].lower()\n",
    "        last_char = name[-1].upper()\n",
    "\n",
    "        middle_char=''\n",
    "        for i in range(-2,-len(name),-1):\n",
    "            middle_char+=str(ord(name[i]))\n",
    "        \n",
    "        key = first_char+middle_char+last_char \n",
    "        keys.append(key)\n",
    "\n",
    "    return keys\n",
    "\n",
    "key_list = key_generator (\"Alex\",\n",
    "\"Bob\", \"Trudy\")\n",
    "print(f\"Encryption keys: {key_list}\")"
   ]
  },
  {
   "cell_type": "code",
   "execution_count": 11,
   "metadata": {},
   "outputs": [
    {
     "name": "stdout",
     "output_type": "stream",
     "text": [
      "Computer: paper\n",
      "Computer wins this round!\n",
      "Computer: paper\n",
      "Computer wins this round!\n",
      "Computer: scissors\n",
      "You win this round!\n",
      "Computer: paper\n",
      "Computer wins this round!\n",
      "Your Score: 1\n",
      "Computer's Score: 3\n",
      "Computer has won the game!\n"
     ]
    }
   ],
   "source": [
    "# Home Task 6\n",
    "import random\n",
    "\n",
    "def playRockPaperScissor(rounds):\n",
    "    player_score = 0\n",
    "    computer_score = 0\n",
    "    actions = ['rock', 'paper', 'scissors']\n",
    "\n",
    "    for _ in range(rounds):\n",
    "        player_action = input(\"Enter your action (rock, paper, scissors): \")\n",
    "\n",
    "        computer_action = random.choice(actions)\n",
    "        print(f\"Computer: {computer_action}\")\n",
    "\n",
    "        if player_action == computer_action:\n",
    "            print(\"It's a tie!\")\n",
    "        elif (player_action == 'rock' and computer_action == 'scissors') or \\\n",
    "             (player_action == 'scissors' and computer_action == 'paper') or \\\n",
    "             (player_action == 'paper' and computer_action == 'rock'):\n",
    "            player_score += 1\n",
    "            print(\"You win this round!\")\n",
    "        else:\n",
    "            computer_score += 1\n",
    "            print(\"Computer wins this round!\")\n",
    "\n",
    "    print(f\"Your Score: {player_score}\")\n",
    "    print(f\"Computer's Score: {computer_score}\")\n",
    "\n",
    "    if player_score > computer_score:\n",
    "        print(\"You have won the game!\")\n",
    "    elif player_score < computer_score:\n",
    "        print(\"Computer has won the game!\")\n",
    "    else:\n",
    "        print(\"The game is a tie!\")\n",
    "\n",
    "    # if(player_score>computer_score):\n",
    "    #     return \"Player\"\n",
    "    # elif(player_score<computer_score):\n",
    "    #     return \"Computer\"\n",
    "    # else:\n",
    "    #     return \"Tie\"\n",
    "\n",
    "rounds=int(input(\"Enter the number of rounds: \"))\n",
    "playRockPaperScissor(rounds)"
   ]
  },
  {
   "cell_type": "code",
   "execution_count": 1,
   "metadata": {},
   "outputs": [
    {
     "name": "stdout",
     "output_type": "stream",
     "text": [
      "my favourite animal is a dog. a dog has sharp teeth so that it can eat flesh very easily. do you know my pet dog's name? i love my pet very much.\n"
     ]
    }
   ],
   "source": [
    "def pun(word):\n",
    "  new=''\n",
    "  if 'a' <= word[0] <= 'z':\n",
    "      new+=chr(ord(word[0])-32)\n",
    "  for i in range(1,len(word)):\n",
    "    if word[i]==word[len(word)-1]:\n",
    "      new+=word[i]\n",
    "      break\n",
    "    elif word[i]=='?' or word[i]=='.' or word[i]=='!':\n",
    "      new+=chr(ord(word[i+2])-32)\n",
    "    elif 'i'== word[i] and (word[i-1]==' ' and word[i+1]==' '):\n",
    "      new+='I'\n",
    "    else:\n",
    "      new+=word[i]\n",
    "  print(new)\n",
    "\n",
    "print(\"my favourite animal is a dog. a dog has sharp teeth so that it can eat flesh very easily. do you know my pet dog's name? i love my pet very much.\")"
   ]
  },
  {
   "cell_type": "code",
   "execution_count": null,
   "metadata": {},
   "outputs": [],
   "source": []
  }
 ],
 "metadata": {
  "kernelspec": {
   "display_name": "Tensorflow",
   "language": "python",
   "name": "tensorflow"
  },
  "language_info": {
   "codemirror_mode": {
    "name": "ipython",
    "version": 3
   },
   "file_extension": ".py",
   "mimetype": "text/x-python",
   "name": "python",
   "nbconvert_exporter": "python",
   "pygments_lexer": "ipython3",
   "version": "3.10.12"
  }
 },
 "nbformat": 4,
 "nbformat_minor": 2
}
