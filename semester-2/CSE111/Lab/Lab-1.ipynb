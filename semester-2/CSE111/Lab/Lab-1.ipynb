{
 "cells": [
  {
   "cell_type": "code",
   "execution_count": 1,
   "metadata": {},
   "outputs": [
    {
     "name": "stdout",
     "output_type": "stream",
     "text": [
      "10 - 2 times\n",
      "20 - 2 times\n",
      "30 - 1 times\n",
      "50 - 1 times\n",
      "90 - 1 times\n"
     ]
    }
   ],
   "source": [
    "# Question-1\n",
    "\n",
    "numbers=[]\n",
    "frequency=[]\n",
    "\n",
    "while True:\n",
    "    \n",
    "    number= input()\n",
    "    found=False\n",
    "    if(number==\"STOP\"):\n",
    "        break\n",
    "\n",
    "    for i in range(len(numbers)):\n",
    "        if numbers[i]==number:\n",
    "            frequency[i]+=1\n",
    "            found=True\n",
    "            break\n",
    "    if not found:\n",
    "        numbers.append(number)\n",
    "        frequency.append(1)\n",
    "\n",
    "for i in range(len(numbers)):\n",
    "    print(f\"{numbers[i]} - {frequency[i]} times\")\n",
    "\n"
   ]
  },
  {
   "cell_type": "code",
   "execution_count": 4,
   "metadata": {},
   "outputs": [
    {
     "name": "stdout",
     "output_type": "stream",
     "text": [
      "8\n",
      "[1, 2, 4, 1]\n"
     ]
    }
   ],
   "source": [
    "# Question-2\n",
    "\n",
    "N=int(input())\n",
    "highest_sum=int(-1e9)\n",
    "highest_list=[]\n",
    "\n",
    "for i in range(N):\n",
    "    list_str=input().split()\n",
    "    list_numbers=[int(num_str) for num_str in list_str]\n",
    "\n",
    "    list_sum=0\n",
    "\n",
    "    for j in list_numbers:\n",
    "        list_sum+=j\n",
    "    \n",
    "    if list_sum>highest_sum:\n",
    "        highest_sum=list_sum\n",
    "        highest_list=list_numbers\n",
    "\n",
    "print(highest_sum)\n",
    "print(highest_list)\n"
   ]
  },
  {
   "cell_type": "code",
   "execution_count": 7,
   "metadata": {},
   "outputs": [
    {
     "name": "stdout",
     "output_type": "stream",
     "text": [
      "[6, 8, 10, 9, 12, 15, 18, 24, 30]\n"
     ]
    }
   ],
   "source": [
    "# Question-3\n",
    "\n",
    "list_1=input().split()\n",
    "list_2=input().split()\n",
    "answer=[]\n",
    "for i in list_1:\n",
    "    for j in list_2:\n",
    "        answer.append(int(i)*int(j))\n",
    "print(answer)\n"
   ]
  },
  {
   "cell_type": "code",
   "execution_count": 6,
   "metadata": {},
   "outputs": [
    {
     "name": "stdout",
     "output_type": "stream",
     "text": [
      "UB Jumper\n",
      "[0, 1, 1, 1]\n"
     ]
    }
   ],
   "source": [
    "# Question-4\n",
    "while True:\n",
    "    list_str=input()\n",
    "    if list_str==\"STOP\":\n",
    "        break\n",
    "    list_str=list_str.split()\n",
    "    N=len(list_str)\n",
    "    checker=[0]*N\n",
    "    for i in range(1,N):\n",
    "        index=abs(int(list_str[i])-int(list_str[i-1]))\n",
    "        if(index<N):\n",
    "            checker[index]=1\n",
    "    isit=True\n",
    "    for i in range(1,N):\n",
    "        if not checker[i]:\n",
    "            isit=False\n",
    "            break\n",
    "    if isit:\n",
    "        print(\"UB Jumper\")\n",
    "    else:\n",
    "        print (\"Not UB Jumper\")\n",
    "\n",
    "    \n",
    "        "
   ]
  },
  {
   "cell_type": "code",
   "execution_count": 1,
   "metadata": {},
   "outputs": [
    {
     "name": "stdout",
     "output_type": "stream",
     "text": [
      "acruB132"
     ]
    }
   ],
   "source": [
    "# Question-5\n",
    "given_list = input()\n",
    "lowercase=[]\n",
    "uppercase = []\n",
    "odd_digits = []\n",
    "even_digits = []\n",
    "\n",
    "for char in given_list:\n",
    "    if 'a' <= char <= 'z':\n",
    "        lowercase.append(char)\n",
    "    elif 'A' <= char <= 'Z':\n",
    "        uppercase.append(char)\n",
    "    elif '0' <= char <= '9':\n",
    "        if not(int(char)&1):\n",
    "            even_digits.append(char)\n",
    "        else:\n",
    "            odd_digits.append(char)\n",
    "\n",
    "def sort_list(l):\n",
    "    for i in range(len(l)):\n",
    "        for j in range(i + 1, len(l)):\n",
    "            if l[i] > l[j]:\n",
    "                l[i], l[j] = l[j], l[i]\n",
    "\n",
    "sort_list(lowercase)\n",
    "sort_list(uppercase)\n",
    "sort_list(odd_digits)\n",
    "sort_list(even_digits)\n",
    "\n",
    "result = lowercase + uppercase + odd_digits + even_digits\n",
    "for i in result:\n",
    "    print(i, end=\"\")"
   ]
  },
  {
   "cell_type": "code",
   "execution_count": 3,
   "metadata": {},
   "outputs": [
    {
     "name": "stdout",
     "output_type": "stream",
     "text": [
      "0\n"
     ]
    }
   ],
   "source": [
    "# Question-6\n",
    "\n",
    "N,K=input().split()\n",
    "\n",
    "given_list=input().split()\n",
    "\n",
    "for i in range(int(N)):\n",
    "    given_list[i]=int(given_list[i])+int(K)\n",
    "answer=0\n",
    "for i in given_list:\n",
    "    if i<=5:\n",
    "        answer+=1\n",
    "answer=answer//3\n",
    "print(answer)\n",
    "\n",
    "\n",
    "\n"
   ]
  },
  {
   "cell_type": "code",
   "execution_count": 4,
   "metadata": {},
   "outputs": [
    {
     "name": "stdout",
     "output_type": "stream",
     "text": [
      "{'a': 400, 'b': 300, 'c': 200, 'd': 700, 'e': 200}\n",
      "Values: (200, 300, 400, 700)\n"
     ]
    }
   ],
   "source": [
    "# Question-1\n",
    "\n",
    "def sort_list(l):\n",
    "    for i in range(len(l)):\n",
    "        for j in range(i + 1, len(l)):\n",
    "            if l[i] > l[j]:\n",
    "                l[i], l[j] = l[j], l[i]\n",
    "    return l\n",
    "dict1 = {'a': 100, 'b': 100, 'c': 200, 'd': 300}\n",
    "dict2 = {'a': 300, 'b': 200, 'd': 400, 'e': 200}\n",
    "\n",
    "combined_dict = dict1.copy()  \n",
    "for key, value in dict2.items():\n",
    "    if key in combined_dict:\n",
    "        combined_dict[key] += value  \n",
    "    else:\n",
    "        combined_dict[key] = value  \n",
    "\n",
    "print(combined_dict)\n",
    "\n",
    "unique_values = []\n",
    "for value in combined_dict.values():\n",
    "    if value not in unique_values:\n",
    "        unique_values.append(value)\n",
    "\n",
    "sorted_values = sort_list(unique_values)\n",
    "values_tuple = tuple(sorted_values)\n",
    "\n",
    "print('Values:', values_tuple)"
   ]
  },
  {
   "cell_type": "code",
   "execution_count": 5,
   "metadata": {},
   "outputs": [
    {
     "name": "stdout",
     "output_type": "stream",
     "text": [
      "10 - 2 times\n",
      "20 - 1 times\n",
      "dict_keys(['10', '20'])\n"
     ]
    }
   ],
   "source": [
    "# Question-2\n",
    "dict={}\n",
    "while True:\n",
    "    number=input()\n",
    "    if number==\"STOP\":\n",
    "        break\n",
    "    if(number in dict):\n",
    "        dict[number]+=1\n",
    "    else :\n",
    "        dict[number]=1\n",
    "\n",
    "for key,value in dict.items():\n",
    "    print(f\"{key} - {value} times\")\n",
    "    \n"
   ]
  },
  {
   "cell_type": "code",
   "execution_count": 11,
   "metadata": {},
   "outputs": [
    {
     "name": "stdout",
     "output_type": "stream",
     "text": [
      "{'a': 4, 'b': 2, 'c': 5}\n",
      "{'4': ['a'], '2': ['b'], '5': ['c']}\n"
     ]
    }
   ],
   "source": [
    "# Question-3\n",
    "\n",
    "def invert_dict(input_dict):\n",
    "    output_dict = {}\n",
    "    for key, value in input_dict.items():\n",
    "        if value not in output_dict:\n",
    "            output_dict[value] = []\n",
    "        output_dict[value].append(key)\n",
    "    return output_dict\n",
    "\n",
    "input_dict = {\"key1\" : \"value1\", \"key2\" : \"value2\", \"key3\" : \"value1\"}\n",
    "print(invert_dict(input_dict))\n",
    "\n",
    "\n",
    "\n"
   ]
  },
  {
   "cell_type": "code",
   "execution_count": 6,
   "metadata": {},
   "outputs": [
    {
     "name": "stdout",
     "output_type": "stream",
     "text": [
      "{'p': 2, 'y': 1, 't': 1, 'h': 1, 'o': 2, 'n': 3, 'r': 2, 'g': 2, 'a': 1, 'm': 2, 'i': 2, 's': 1, 'f': 1, 'u': 1}\n"
     ]
    }
   ],
   "source": [
    "# Question-4\n",
    "\n",
    "given_string=input()\n",
    "answer={}\n",
    "for char in given_string:\n",
    "    if char==\" \":\n",
    "        continue\n",
    "    char=char.lower()\n",
    "    if char in answer:\n",
    "        answer[char]+=1\n",
    "    else:\n",
    "        answer[char]=1\n",
    "print(answer)"
   ]
  },
  {
   "cell_type": "code",
   "execution_count": 11,
   "metadata": {},
   "outputs": [
    {
     "name": "stdout",
     "output_type": "stream",
     "text": [
      "Those strings are not anagrams.\n"
     ]
    }
   ],
   "source": [
    "# Question-5\n",
    "str1 = input()\n",
    "str2 = input()\n",
    "\n",
    "dict1 = {}\n",
    "dict2 = {}\n",
    "\n",
    "for char in str1:\n",
    "    if char in dict1:\n",
    "        dict1[char] += 1\n",
    "    else:\n",
    "        dict1[char] = 1\n",
    "for char in str2:\n",
    "    if char in dict2:\n",
    "        dict2[char] += 1\n",
    "    else:\n",
    "        dict2[char] = 1\n",
    "if dict1 == dict2:\n",
    "    print(\"Those strings are anagrams.\")\n",
    "else:\n",
    "    print(\"Those strings are not anagrams.\")"
   ]
  },
  {
   "cell_type": "code",
   "execution_count": 13,
   "metadata": {},
   "outputs": [
    {
     "name": "stdout",
     "output_type": "stream",
     "text": [
      "4433555555666110966677755531111\n",
      "{'.': '1', ',': '11', '?': '111', '!': '1111', ':': '11111', 'A': '2', 'B': '22', 'C': '222', 'D': '3', 'E': '33', 'F': '333', 'G': '4', 'H': '44', 'I': '444', 'J': '5', 'K': '55', 'L': '555', 'M': '6', 'N': '66', 'O': '666', 'P': '7', 'Q': '77', 'R': '777', 'S': '7777', 'T': '8', 'U': '88', 'V': '888', 'W': '9', 'X': '99', 'Y': '999', 'Z': '9999', ' ': '0'}\n"
     ]
    }
   ],
   "source": [
    "# Question-6\n",
    "# Provided dictionary\n",
    "key_symbols = {\n",
    "    '1': '.,?!:',\n",
    "    '2': 'ABC',\n",
    "    '3': 'DEF',\n",
    "    '4': 'GHI',\n",
    "    '5': 'JKL',\n",
    "    '6': 'MNO',\n",
    "    '7': 'PQRS',\n",
    "    '8': 'TUV',\n",
    "    '9': 'WXYZ',\n",
    "    '0': ' '\n",
    "}\n",
    "\n",
    "key_presses = {}\n",
    "for key, symbols in key_symbols.items():\n",
    "    for i, symbol in enumerate(symbols):\n",
    "        key_presses[symbol] = key * (i + 1)\n",
    "\n",
    "message = input()\n",
    "\n",
    "presses = ''\n",
    "for char in message.upper():\n",
    "    if char in key_presses:\n",
    "        presses += key_presses[char]\n",
    "\n",
    "print(presses)\n"
   ]
  },
  {
   "cell_type": "code",
   "execution_count": null,
   "metadata": {},
   "outputs": [],
   "source": []
  }
 ],
 "metadata": {
  "kernelspec": {
   "display_name": "Tensorflow",
   "language": "python",
   "name": "tensorflow"
  },
  "language_info": {
   "codemirror_mode": {
    "name": "ipython",
    "version": 3
   },
   "file_extension": ".py",
   "mimetype": "text/x-python",
   "name": "python",
   "nbconvert_exporter": "python",
   "pygments_lexer": "ipython3",
   "version": "3.10.12"
  }
 },
 "nbformat": 4,
 "nbformat_minor": 2
}
