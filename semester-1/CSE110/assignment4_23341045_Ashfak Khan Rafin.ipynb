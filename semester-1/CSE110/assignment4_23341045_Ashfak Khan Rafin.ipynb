{
 "cells": [
  {
   "cell_type": "code",
   "execution_count": null,
   "metadata": {},
   "outputs": [],
   "source": [
    "# Home Task 1\n",
    "given=input()\n",
    "ans=\"\"\n",
    "i=0\n",
    "while i<len(given):\n",
    "    temp=given[i]\n",
    "    ans+=temp\n",
    "    while(i<len(given) and temp==given[i]):\n",
    "        i+=1\n",
    "    i+=1\n",
    "print(ans)"
   ]
  },
  {
   "cell_type": "code",
   "execution_count": null,
   "metadata": {},
   "outputs": [],
   "source": [
    "# Home Task 2\n",
    "given=input()\n",
    "i=0\n",
    "while(given[i]!=\" \"):\n",
    "    i+=1\n",
    "ans=\"\"\n",
    "first,second=0,i+1\n",
    "while(first !=i-1 and second!=len(given)):\n",
    "    ans+=(given[first]+given[second])\n",
    "    first+=1\n",
    "    second+=1\n",
    "ans+={True:given[first:i-1],False:given[second:len(given)]}[first<i-1]\n",
    "print(ans)"
   ]
  },
  {
   "cell_type": "code",
   "execution_count": null,
   "metadata": {},
   "outputs": [],
   "source": [
    "# Home Task 3\n",
    "given=input()\n",
    "ans=\"\"\n",
    "for i in given:\n",
    "    ans+=chr(ord(i)+1)\n",
    "print(ans)"
   ]
  },
  {
   "cell_type": "code",
   "execution_count": null,
   "metadata": {},
   "outputs": [],
   "source": [
    "# Home Task 4\n",
    "given=input()\n",
    "ans=\"\"\n",
    "count=0\n",
    "\n",
    "for i in given:\n",
    "    if(not 65<=ord(i)<=90 and not 97<=ord(i)<=122):\n",
    "        ans+=i\n",
    "        continue\n",
    "    if(count&1):\n",
    "        ans+={True:chr(ord(i)+32),False:i}[65<=ord(i)<=90]\n",
    "    else:\n",
    "        ans+={True:chr(ord(i)-32),False:i}[97<=ord(i)<=122]\n",
    "    count+=1\n",
    "print(ans)"
   ]
  },
  {
   "cell_type": "code",
   "execution_count": null,
   "metadata": {},
   "outputs": [],
   "source": []
  }
 ],
 "metadata": {
  "kernelspec": {
   "display_name": "Python 3",
   "language": "python",
   "name": "python3"
  },
  "language_info": {
   "codemirror_mode": {
    "name": "ipython",
    "version": 3
   },
   "file_extension": ".py",
   "mimetype": "text/x-python",
   "name": "python",
   "nbconvert_exporter": "python",
   "pygments_lexer": "ipython3",
   "version": "3.11.6"
  }
 },
 "nbformat": 4,
 "nbformat_minor": 2
}
