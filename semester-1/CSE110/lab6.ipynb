{
 "cells": [
  {
   "cell_type": "code",
   "execution_count": 1,
   "metadata": {},
   "outputs": [
    {
     "name": "stdout",
     "output_type": "stream",
     "text": [
      "[1]\n",
      "[0, 2]\n",
      "[0, 0, 3]\n",
      "[0, 0, 0, 4]\n"
     ]
    }
   ],
   "source": [
    "# Task-1\n",
    "# using append() method\n",
    "arr=[]\n",
    "for i in range(5):\n",
    "    arr.append(int(input()))\n",
    "    print(arr)\n",
    "\n",
    "# without using append() _Method\n",
    "arr=[]\n",
    "for i in range(5):\n",
    "    arr+=[int(input())]\n",
    "    print(arr)\n",
    "\n"
   ]
  },
  {
   "cell_type": "code",
   "execution_count": 13,
   "metadata": {},
   "outputs": [
    {
     "name": "stdout",
     "output_type": "stream",
     "text": [
      "[0, 1, 100, -5, 5]\n"
     ]
    }
   ],
   "source": [
    "# Task-2\n",
    "given=input()\n",
    "given=given[1:len(given)]\n",
    "arr=[]\n",
    "start=0\n",
    "end=0\n",
    "for i in range(len(given)):\n",
    "    if(given[i]==\",\" or given[i]==\"]\"):\n",
    "        end=i\n",
    "        arr.append(int(given[start:end]))\n",
    "        start=i+2\n",
    "# rev_arr=[0]*len(arr)\n",
    "# for i in range(len(arr)):\n",
    "#     rev_arr[i]=arr[len(arr)-i-1]\n",
    "rev_arr = arr[::-1]\n",
    "print(rev_arr)"
   ]
  },
  {
   "cell_type": "code",
   "execution_count": 4,
   "metadata": {},
   "outputs": [
    {
     "name": "stdout",
     "output_type": "stream",
     "text": [
      "[]\n"
     ]
    }
   ],
   "source": [
    "# Task-3\n",
    "given=input()+\" \"\n",
    "arr=[]\n",
    "start=0\n",
    "end=0\n",
    "for i in range(len(given)):\n",
    "    if(given[i]==\",\" or i==len(given)-1):\n",
    "        end=i\n",
    "        arr.append(int(given[start:end]))\n",
    "        start=i+2\n",
    "if(len(arr)<4):\n",
    "    print(\"Not Possible\")\n",
    "else:\n",
    "    print(arr[2:-2])"
   ]
  },
  {
   "cell_type": "code",
   "execution_count": 32,
   "metadata": {},
   "outputs": [
    {
     "name": "stdout",
     "output_type": "stream",
     "text": [
      "False\n"
     ]
    }
   ],
   "source": [
    "# Task-4\n",
    "list_one=[1, 4, 3, 2, 5]\n",
    "list_two=[8, 7, 6, 9]\n",
    "flag=False\n",
    "for i in list_one:\n",
    "    if(i in list_two):\n",
    "        flag=True\n",
    "        break\n",
    "print(flag)"
   ]
  },
  {
   "cell_type": "code",
   "execution_count": 2,
   "metadata": {},
   "outputs": [
    {
     "name": "stdout",
     "output_type": "stream",
     "text": [
      "[1, 3, 5, 7, 9, 2, 4, 6, 8]\n"
     ]
    }
   ],
   "source": [
    "# Task-5\n",
    "list_one=[1, 3, 5, 7, 9, 10]\n",
    "list_two=[2, 4, 6, 8]\n",
    "list_one=list_one[:len(list_one)-1]+list_two\n",
    "print(list_one)"
   ]
  },
  {
   "cell_type": "code",
   "execution_count": 5,
   "metadata": {},
   "outputs": [
    {
     "name": "stdout",
     "output_type": "stream",
     "text": [
      "[2, 4, 6, 8, 10, 12, -14, -16]\n"
     ]
    }
   ],
   "source": [
    "# Task-6\n",
    "list1 = [1, 2, 3, 4, 5, 6, 7, 8, 9]\n",
    "list2 = [10, 11, 12, -13, -14, -15,-16]\n",
    "new_list=[i for i in list1+list2 if not(i&1)]\n",
    "# for i in range(max(len(list1),len(list2))):\n",
    "#     if(i<len(list1)):\n",
    "#         if(not (list1[i]&1)):\n",
    "#             new_list.append(list1[i])\n",
    "#     if(i<len(list2)):\n",
    "#         if(not (list2[i]&1)):\n",
    "#             new_list.append(list2[i])\n",
    "print(new_list)\n",
    "        \n",
    "\n"
   ]
  },
  {
   "cell_type": "code",
   "execution_count": 7,
   "metadata": {},
   "outputs": [
    {
     "name": "stdout",
     "output_type": "stream",
     "text": [
      "['start', 10, 4, 2, 11, 9, 'mid', 3, 1, 0, 6, 8, 'Done']\n"
     ]
    }
   ],
   "source": [
    "# Task-7\n",
    "def nested_to_linear(mylist):\n",
    "    if mylist==[]:\n",
    "        return []\n",
    "    if type(mylist[0])==list:\n",
    "        return nested_to_linear(mylist[0])+nested_to_linear(mylist[1:])\n",
    "    return mylist[:1]+nested_to_linear(mylist[1:])\n",
    "my_list = [[\"start\", 10, [4, 2, [11, [9, \"mid\", 3, [1, 0], 6]], 8], \"Done\"]]\n",
    "print(nested_to_linear(my_list))"
   ]
  },
  {
   "cell_type": "code",
   "execution_count": 2,
   "metadata": {},
   "outputs": [
    {
     "name": "stdout",
     "output_type": "stream",
     "text": [
      "[['rafin', 3.3]]\n",
      "[['rafin', 3.3], ['rafin', 3.3]]\n",
      "[['rafin', 3.3], ['rafin', 3.3], ['rafin', 3.3]]\n",
      "[['rafin', 3.3], ['rafin', 3.3], ['rafin', 3.3], ['rafin', 3.3]]\n",
      "[['rafin', 3.3], ['rafin', 3.3], ['rafin', 3.3], ['rafin', 3.3], ['rafin', 3.3]]\n"
     ]
    }
   ],
   "source": [
    "# Task-8\n",
    "grade_list=[]\n",
    "for i in range(5):\n",
    "    x=input()\n",
    "    x=x[1:len(x)-1].split(\",\")\n",
    "    x[1]=float(x[1])\n",
    "    grade_list.append(x)\n",
    "    print(grade_list)\n",
    "    "
   ]
  },
  {
   "cell_type": "markdown",
   "metadata": {},
   "source": []
  }
 ],
 "metadata": {
  "kernelspec": {
   "display_name": "tensorflow",
   "language": "python",
   "name": "python3"
  },
  "language_info": {
   "codemirror_mode": {
    "name": "ipython",
    "version": 3
   },
   "file_extension": ".py",
   "mimetype": "text/x-python",
   "name": "python",
   "nbconvert_exporter": "python",
   "pygments_lexer": "ipython3",
   "version": "3.10.12"
  }
 },
 "nbformat": 4,
 "nbformat_minor": 2
}
