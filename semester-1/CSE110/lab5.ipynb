{
 "cells": [
  {
   "cell_type": "code",
   "execution_count": null,
   "metadata": {},
   "outputs": [],
   "source": [
    "# Home Task --> 1\n",
    "\n",
    "# 1.1\n",
    "def is_prime(n):\n",
    "    if n < 2:\n",
    "        return False\n",
    "    i=2\n",
    "    while i*i<=n:\n",
    "        if (n % i==0):\n",
    "            return False\n",
    "        i+=1\n",
    "    return True\n",
    "prime_check= is_prime(29)\n",
    "print(prime_check)\n",
    "\n",
    "# 1.2\n",
    "def is_perfect(n):\n",
    "    sum=1\n",
    "    i=2\n",
    "    while i*i<=n:\n",
    "        if n % i==0:\n",
    "            sum+=i+n/i\n",
    "        i+=1\n",
    "    return {True:True, False:False}[sum==n]\n",
    "perfect_check= is_perfect(33)\n",
    "print(perfect_check)\n",
    "\n",
    "# 1.3\n",
    "\n",
    "def special_sum(n):\n",
    "    sum=0\n",
    "    for i in range(2,n):\n",
    "        if(is_prime(i) or is_perfect(i)):\n",
    "            sum+=i\n",
    "    return sum\n",
    "result= special_sum(30)\n",
    "print(result)"
   ]
  },
  {
   "cell_type": "code",
   "execution_count": null,
   "metadata": {},
   "outputs": [],
   "source": [
    "# Home Task --> 2\n",
    "\n",
    "# 2.1\n",
    "def show_dot(n):\n",
    "    print(n*\".\",end=\"\")\n",
    "show_dot(3)\n",
    "\n",
    "# 2.2\n",
    "def show_palindrome(n):\n",
    "    for i in range(1,2*n):\n",
    "        if i<=n:\n",
    "            print(i,end=\"\")\n",
    "        else:\n",
    "            print(n-(i%n),end=\"\")\n",
    "\n",
    "show_palindrome(3)\n",
    "\n",
    "# 2.3\n",
    "def show_triangle(n):\n",
    "    for i in range(1,n+1):\n",
    "        show_dot(n-i)\n",
    "        show_palindrome(i)\n",
    "        show_dot(n-i)\n",
    "        print()\n",
    "show_triangle(5)\n"
   ]
  },
  {
   "cell_type": "code",
   "execution_count": null,
   "metadata": {},
   "outputs": [],
   "source": [
    "# Home Task --> 3\n",
    "\n",
    "# 3.1\n",
    "def cal_tax(age,salary):\n",
    "    if age<18 or salary<10000:\n",
    "        return 0\n",
    "    elif salary<=20000:\n",
    "        return int(salary*0.07)\n",
    "    else:\n",
    "        return int(salary*0.14)\n",
    "\n",
    "t= cal_tax(20,18000)\n",
    "print(t)\n",
    "\n",
    "# 3.2\n",
    "\n",
    "def cal_yearly_tax():\n",
    "    age=int(input())\n",
    "    ans=[0]*12\n",
    "    sum=0\n",
    "    for i in range(1,13):\n",
    "        ans[i-1]=cal_tax(age,int(input()))\n",
    "    for i in range(1,13):\n",
    "        sum+=ans[i-1]\n",
    "        print(f\"Month{i} tax: {ans[i-1]}\")\n",
    "    print(f\"Total Yearly Tax: {sum}\")\n",
    "cal_yearly_tax()\n",
    "\n"
   ]
  },
  {
   "cell_type": "code",
   "execution_count": 6,
   "metadata": {},
   "outputs": [
    {
     "name": "stdout",
     "output_type": "stream",
     "text": [
      "0\n",
      "0\n",
      "0\n",
      "1\n",
      "243\n"
     ]
    }
   ],
   "source": [
    "# Home Task --> 4\n",
    "\n",
    "# 4.1\n",
    "def reverse_digits(n):\n",
    "    if(n==0):\n",
    "        return \n",
    "    print(n%10)\n",
    "    reverse_digits(n//10)\n",
    "reverse_digits(1000)\n",
    "\n",
    "# 4.2\n",
    "\n",
    "def power(a,n):\n",
    "    if(n==1):\n",
    "        return a\n",
    "    return a*power(a,n-1)\n",
    "print(power(3,5))\n"
   ]
  },
  {
   "cell_type": "code",
   "execution_count": 7,
   "metadata": {},
   "outputs": [
    {
     "name": "stdout",
     "output_type": "stream",
     "text": [
      "-5\n",
      "3\n"
     ]
    }
   ],
   "source": [
    "# Home Task --> 5\n",
    "\n",
    "# 5.1\n",
    "def sequence_iterative(n):\n",
    "    ans=0\n",
    "    for i in range(1,n+1):\n",
    "        if(i&1):\n",
    "            ans+=i\n",
    "        else:\n",
    "            ans-=i\n",
    "    print(ans)\n",
    "sequence_iterative(10)\n",
    "\n",
    "# 5.2\n",
    "def sequence_recursive(n):\n",
    "    if(n==1):\n",
    "        return 1\n",
    "    if(n&1):\n",
    "        return n+sequence_recursive(n-1)\n",
    "    else:\n",
    "        return -n+sequence_recursive(n-1)\n",
    "print(sequence_recursive(5))\n"
   ]
  },
  {
   "cell_type": "code",
   "execution_count": null,
   "metadata": {},
   "outputs": [],
   "source": []
  }
 ],
 "metadata": {
  "kernelspec": {
   "display_name": "Python 3",
   "language": "python",
   "name": "python3"
  },
  "language_info": {
   "codemirror_mode": {
    "name": "ipython",
    "version": 3
   },
   "file_extension": ".py",
   "mimetype": "text/x-python",
   "name": "python",
   "nbconvert_exporter": "python",
   "pygments_lexer": "ipython3",
   "version": "3.11.6"
  }
 },
 "nbformat": 4,
 "nbformat_minor": 2
}
