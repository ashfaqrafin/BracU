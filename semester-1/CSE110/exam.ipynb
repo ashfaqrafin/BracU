{
 "cells": [
  {
   "cell_type": "code",
   "execution_count": 6,
   "metadata": {},
   "outputs": [
    {
     "name": "stdout",
     "output_type": "stream",
     "text": [
      "[5, -5, 100, 1, 0]\n"
     ]
    }
   ],
   "source": [
    "\n",
    "arr=\"[5, -5, 100, 1, 0]\"\n",
    "new_arr=[]\n",
    "\n",
    "temp=\"\"\n",
    "i=1\n",
    "\n",
    "while i<len(arr):\n",
    "    if arr[i]==',' or arr[i]==']':\n",
    "      new_arr.append(int(temp))\n",
    "      temp=\"\"\n",
    "      i+=2\n",
    "    else:\n",
    "        temp+=arr[i]\n",
    "        i+=1\n",
    "print(new_arr)\n",
    "      \n",
    "\n",
    "\n"
   ]
  },
  {
   "cell_type": "code",
   "execution_count": null,
   "metadata": {},
   "outputs": [],
   "source": []
  }
 ],
 "metadata": {
  "kernelspec": {
   "display_name": "tensorflow",
   "language": "python",
   "name": "python3"
  },
  "language_info": {
   "codemirror_mode": {
    "name": "ipython",
    "version": 3
   },
   "file_extension": ".py",
   "mimetype": "text/x-python",
   "name": "python",
   "nbconvert_exporter": "python",
   "pygments_lexer": "ipython3",
   "version": "3.10.12"
  }
 },
 "nbformat": 4,
 "nbformat_minor": 2
}
