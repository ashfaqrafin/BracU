{
 "cells": [
  {
   "cell_type": "code",
   "execution_count": 4,
   "metadata": {},
   "outputs": [
    {
     "name": "stdout",
     "output_type": "stream",
     "text": [
      "ID: 1\n",
      "Name: Samin\n",
      "Department: CSE\n",
      "Age: 21\n",
      "CGPA: 3.91\n",
      "-----------------------\n",
      "ID: 2\n",
      "Name: Fahim\n",
      "Department: ECE\n",
      "Age: 21\n",
      "CGPA: 3.85\n",
      "-----------------------\n",
      "ID: 3\n",
      "Name: Tahura\n",
      "Department: EEE\n",
      "Age: 22\n",
      "CGPA: 3.01\n",
      "-----------------------\n",
      "ID: 4\n",
      "Name: Sumaiya\n",
      "Department: BBA\n",
      "Age: 23\n",
      "CGPA: 3.96\n"
     ]
    }
   ],
   "source": [
    "class Student:\n",
    "    ID = 0\n",
    "    def __init__(self, name, department, age, cgpa):\n",
    "        Student.ID += 1\n",
    "        self.id = Student.ID\n",
    "        self.name = name\n",
    "        self.department = department\n",
    "        self.age = age\n",
    "        self.cgpa = cgpa\n",
    "    def showDetails(self):\n",
    "        print(f\"ID: {self.id}\\nName: {self.name}\\nDepartment: {self.department}\\nAge: {self.age}\\nCGPA: {self.cgpa}\")\n",
    "    @classmethod\n",
    "    def from_String(cls, student_str):\n",
    "        name, department, age, cgpa = student_str.split('-')\n",
    "        return cls(name, department, int(age), float(cgpa))\n",
    "\n",
    "\n",
    "s1 = Student(\"Samin\", \"CSE\", 21, 3.91) \n",
    "s1.showDetails() \n",
    "print(\"-----------------------\")\n",
    "s2 = Student(\"Fahim\", \"ECE\", 21, 3.85) \n",
    "s2.showDetails() \n",
    "print(\"-----------------------\")\n",
    "s3 = Student(\"Tahura\", \"EEE\", 22, 3.01) \n",
    "s3.showDetails()\n",
    "print(\"-----------------------\")\n",
    "s4 = Student.from_String(\"Sumaiya-BBA-23-3.96\") \n",
    "s4.showDetails()\n"
   ]
  },
  {
   "cell_type": "code",
   "execution_count": 7,
   "metadata": {},
   "outputs": [
    {
     "name": "stdout",
     "output_type": "stream",
     "text": [
      "Total Passenger: 0\n",
      "=========================\n",
      "Name: Jack\n",
      "Bus fare: 550\n",
      "=========================\n",
      "Name: Carol\n",
      "Bus fare: 450\n",
      "=========================\n",
      "Name: Mike\n",
      "Bus fare: 500\n",
      "=========================\n",
      "Total Passenger: 3\n"
     ]
    }
   ],
   "source": [
    "# Task-2\n",
    "\n",
    "class Passenger:\n",
    "    count=0\n",
    "    def __init__(self,name):\n",
    "        self.name=name\n",
    "        self.__weight=0;\n",
    "        Passenger.count+=1\n",
    "        self.fare=450\n",
    "    def set_bag_weight(self,weight):\n",
    "        self.__weight=weight\n",
    "        if(self.__weight>20 and self.__weight<=50):\n",
    "            self.fare+=50\n",
    "        elif(self.__weight>50):\n",
    "            self.fare+=100\n",
    "    def printDetail(self):\n",
    "        print(f\"Name: {self.name}\")\n",
    "        print(f\"Bus fare: {self.fare}\")\n",
    "print(\"Total Passenger:\", Passenger.count)\n",
    "p1 = Passenger(\"Jack\") \n",
    "p1.set_bag_weight(90)\n",
    "p2 = Passenger(\"Carol\") \n",
    "p2.set_bag_weight(10)\n",
    "p3 = Passenger(\"Mike\") \n",
    "p3.set_bag_weight(25) \n",
    "print(\"=========================\") \n",
    "p1.printDetail() \n",
    "print(\"=========================\") \n",
    "p2.printDetail() \n",
    "print(\"=========================\") \n",
    "p3.printDetail() \n",
    "print(\"=========================\") \n",
    "print(\"Total Passenger:\", Passenger.count)\n",
    "        \n",
    "\n"
   ]
  },
  {
   "cell_type": "code",
   "execution_count": 8,
   "metadata": {},
   "outputs": [],
   "source": [
    "class Travel:\n",
    "    count = 0\n",
    "\n",
    "    def __init__(self, source, destination):\n",
    "        Travel.count += 1\n",
    "        self.source = source\n",
    "        self.destination = destination\n",
    "        self.time = \"1:00\"\n",
    "\n",
    "    def set_time(self, time):\n",
    "        self.time = f\"{time}:00\"\n",
    "\n",
    "    def set_source(self, source):\n",
    "        self.source = source\n",
    "\n",
    "    def set_destination(self, destination):\n",
    "        self.destination = destination\n",
    "\n",
    "    def display_travel_info(self):\n",
    "        return f\"Source: {self.source}\\nDestination: {self.destination}\\nFlight Time: {self.time}\"\n"
   ]
  },
  {
   "cell_type": "code",
   "execution_count": null,
   "metadata": {},
   "outputs": [],
   "source": []
  }
 ],
 "metadata": {
  "kernelspec": {
   "display_name": "Tensorflow",
   "language": "python",
   "name": "tensorflow"
  },
  "language_info": {
   "codemirror_mode": {
    "name": "ipython",
    "version": 3
   },
   "file_extension": ".py",
   "mimetype": "text/x-python",
   "name": "python",
   "nbconvert_exporter": "python",
   "pygments_lexer": "ipython3",
   "version": "3.10.12"
  }
 },
 "nbformat": 4,
 "nbformat_minor": 2
}
