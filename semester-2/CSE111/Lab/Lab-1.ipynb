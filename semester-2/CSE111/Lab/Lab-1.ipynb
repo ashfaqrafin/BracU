{
 "cells": [
  {
   "cell_type": "code",
   "execution_count": 3,
   "metadata": {},
   "outputs": [
    {
     "name": "stdout",
     "output_type": "stream",
     "text": [
      "10 - 1 times\n",
      "20 - 2 times\n"
     ]
    }
   ],
   "source": [
    "# Question-1\n",
    "\n",
    "numbers=[]\n",
    "frequency=[]\n",
    "\n",
    "while True:\n",
    "    \n",
    "    number= input()\n",
    "    found=False\n",
    "    if(number==\"STOP\"):\n",
    "        break\n",
    "\n",
    "    for i in range(len(numbers)):\n",
    "        if numbers[i]==number:\n",
    "            frequency[i]+=1\n",
    "            found=True\n",
    "            break\n",
    "    if not found:\n",
    "        numbers.append(number)\n",
    "        frequency.append(1)\n",
    "\n",
    "for i in range(len(numbers)):\n",
    "    print(f\"{numbers[i]} - {frequency[i]} times\")\n",
    "\n"
   ]
  },
  {
   "cell_type": "code",
   "execution_count": 6,
   "metadata": {},
   "outputs": [
    {
     "name": "stdout",
     "output_type": "stream",
     "text": [
      "3\n",
      "[1, 2]\n"
     ]
    }
   ],
   "source": [
    "# Question-2\n",
    "\n",
    "N=int(input())\n",
    "highest_sum=int(-1e9)\n",
    "highest_list=[]\n",
    "\n",
    "for i in range(N):\n",
    "    list_str=input().split()\n",
    "    list_numbers=[int(num_str) for num_str in list_str]\n",
    "\n",
    "    list_sum=0\n",
    "\n",
    "    for j in list_numbers:\n",
    "        list_sum+=j\n",
    "    \n",
    "    if list_sum>highest_sum:\n",
    "        highest_sum=list_sum\n",
    "        highest_list=list_numbers\n",
    "\n",
    "print(highest_sum)\n",
    "print(highest_list)\n"
   ]
  },
  {
   "cell_type": "code",
   "execution_count": 7,
   "metadata": {},
   "outputs": [
    {
     "name": "stdout",
     "output_type": "stream",
     "text": [
      "[6, 8, 10, 9, 12, 15, 18, 24, 30]\n"
     ]
    }
   ],
   "source": [
    "# Question-3\n",
    "\n",
    "list_1=input().split()\n",
    "list_2=input().split()\n",
    "answer=[]\n",
    "for i in list_1:\n",
    "    for j in list_2:\n",
    "        answer.append(int(i)*int(j))\n",
    "print(answer)\n"
   ]
  },
  {
   "cell_type": "code",
   "execution_count": 3,
   "metadata": {},
   "outputs": [
    {
     "name": "stdout",
     "output_type": "stream",
     "text": [
      "UB Jumper\n",
      "Not UB Jumper\n",
      "Not UB Jumper\n",
      "Not UB Jumper\n",
      "UB Jumper\n"
     ]
    }
   ],
   "source": [
    "# Question-4\n",
    "while True:\n",
    "    list_str=input()\n",
    "    if list_str==\"STOP\":\n",
    "        break\n",
    "    list_str=list_str.split()\n",
    "    N=len(list_str)\n",
    "    checker=[0]*N\n",
    "    for i in range(1,N):\n",
    "        index=abs(int(list_str[i])-int(list_str[i-1]))\n",
    "        if(index<N):\n",
    "            checker[index]=1\n",
    "    isit=True\n",
    "    for i in range(1,N):\n",
    "        if not checker[i]:\n",
    "            isit=False\n",
    "            break\n",
    "    if isit:\n",
    "        print(\"UB Jumper\")\n",
    "    else:\n",
    "        print (\"Not UB Jumper\")\n",
    "    \n",
    "        "
   ]
  },
  {
   "cell_type": "code",
   "execution_count": 6,
   "metadata": {},
   "outputs": [
    {
     "name": "stdout",
     "output_type": "stream",
     "text": [
      "acruB1324"
     ]
    }
   ],
   "source": [
    "# Question-5\n",
    "given_list = input()\n",
    "lowercase=[]\n",
    "uppercase = []\n",
    "odd_digits = []\n",
    "even_digits = []\n",
    "\n",
    "for char in given_list:\n",
    "    if 'a' <= char <= 'z':\n",
    "        lowercase.append(char)\n",
    "    elif 'A' <= char <= 'Z':\n",
    "        uppercase.append(char)\n",
    "    elif '0' <= char <= '9':\n",
    "        if not(int(char)&1):\n",
    "            even_digits.append(char)\n",
    "        else:\n",
    "            odd_digits.append(char)\n",
    "\n",
    "def sort_list(l):\n",
    "    for i in range(len(l)):\n",
    "        for j in range(i + 1, len(l)):\n",
    "            if l[i] > l[j]:\n",
    "                l[i], l[j] = l[j], l[i]\n",
    "\n",
    "sort_list(lowercase)\n",
    "sort_list(uppercase)\n",
    "sort_list(odd_digits)\n",
    "sort_list(even_digits)\n",
    "\n",
    "result = lowercase + uppercase + odd_digits + even_digits\n",
    "for i in result:\n",
    "    print(i, end=\"\")"
   ]
  },
  {
   "cell_type": "code",
   "execution_count": 12,
   "metadata": {},
   "outputs": [
    {
     "name": "stdout",
     "output_type": "stream",
     "text": [
      "0\n"
     ]
    }
   ],
   "source": [
    "# Question-6\n",
    "\n",
    "N,K=input().split()\n",
    "\n",
    "given_list=input().split()\n",
    "\n",
    "for i in range(int(N)):\n",
    "    given_list[i]=int(given_list[i])+int(K)\n",
    "answer=0\n",
    "for i in given_list:\n",
    "    if i<=5:\n",
    "        answer+=1\n",
    "answer=answer//3\n",
    "print(answer)\n",
    "\n",
    "\n",
    "\n"
   ]
  },
  {
   "cell_type": "code",
   "execution_count": null,
   "metadata": {},
   "outputs": [],
   "source": []
  }
 ],
 "metadata": {
  "kernelspec": {
   "display_name": "tensorflow",
   "language": "python",
   "name": "python3"
  },
  "language_info": {
   "codemirror_mode": {
    "name": "ipython",
    "version": 3
   },
   "file_extension": ".py",
   "mimetype": "text/x-python",
   "name": "python",
   "nbconvert_exporter": "python",
   "pygments_lexer": "ipython3",
   "version": "3.10.12"
  }
 },
 "nbformat": 4,
 "nbformat_minor": 2
}
