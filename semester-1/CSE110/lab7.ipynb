{
 "cells": [
  {
   "cell_type": "code",
   "execution_count": 2,
   "metadata": {},
   "outputs": [],
   "source": [
    "import numpy as np"
   ]
  },
  {
   "cell_type": "code",
   "execution_count": 3,
   "metadata": {},
   "outputs": [
    {
     "name": "stdout",
     "output_type": "stream",
     "text": [
      "Orginal Array:  [1 2 3]\n",
      "Resized Array:  [1 2 3 4]\n"
     ]
    }
   ],
   "source": [
    "# Task-1\n",
    "\n",
    "\n",
    "# n = int(input())\n",
    "# arr = np.zeros(n, dtype=int)\n",
    "# for i in range(n):\n",
    "#     arr[i] = int(input())\n",
    "\n",
    "# new_element = int(input())\n",
    "# new_arr = np.append(arr, new_element)\n",
    "\n",
    "# print(\"Original Array: \", arr)\n",
    "# print(\"Resized Array: \", new_arr)\n",
    "\n",
    "n=int(input())\n",
    "arr=np.zeros(n,dtype=int)\n",
    "for i in range(n):\n",
    "    arr[i]= int(input())\n",
    "new_arr=np.zeros(n+1,dtype=int)\n",
    "for i in range(n+1):\n",
    "    if(n>i):\n",
    "        new_arr[i]=arr[i]\n",
    "    else:\n",
    "        new_arr[i]=int(input())\n",
    "print(\"Orginal Array: \",arr)\n",
    "print(\"Resized Array: \",new_arr)"
   ]
  },
  {
   "cell_type": "code",
   "execution_count": 4,
   "metadata": {},
   "outputs": [
    {
     "name": "stdout",
     "output_type": "stream",
     "text": [
      "Orginal Array:  [1 2 3]\n",
      "After modifying:  [1 1 1]\n"
     ]
    }
   ],
   "source": [
    "# Task-2\n",
    "\n",
    "# n = int(input())\n",
    "# arr = np.zeros(n, dtype=int)\n",
    "# for i in range(n):\n",
    "#     arr[i] = int(input())\n",
    "\n",
    "# new_arr = np.where(arr > 0, 1, 0)\n",
    "\n",
    "# print(\"Original Array: \", arr)\n",
    "# print(\"After modifying: \", new_arr)\n",
    "\n",
    "n=int(input())\n",
    "arr=np.zeros(n,dtype=int)\n",
    "for i in range(n):\n",
    "    arr[i]= int(input())\n",
    "new_arr=np.zeros(n,dtype=int)\n",
    "for i in range(n):\n",
    "    if(arr[i]>0):\n",
    "        new_arr[i]=1\n",
    "    else:\n",
    "        new_arr[i]=0\n",
    "print(\"Orginal Array: \",arr)\n",
    "print(\"After modifying: \",new_arr)"
   ]
  },
  {
   "cell_type": "code",
   "execution_count": null,
   "metadata": {},
   "outputs": [
    {
     "name": "stdout",
     "output_type": "stream",
     "text": [
      "[ 7  5 20 12 10]\n"
     ]
    }
   ],
   "source": [
    "# Task-3\n",
    "def reverseArray(arr1):\n",
    "    for i in range(arr1.size//2+1):\n",
    "        temp=arr1[i]\n",
    "        arr1[i]=arr1[arr1.size-i-1]\n",
    "        arr1[arr1.size-i-1]=temp\n",
    "    return arr1\n",
    "arr1 = np.array([10, 12, 20, 5, 7]) \n",
    "arr1 = reverseArray(arr1) \n",
    "print(arr1)\n",
    "\n",
    "\n"
   ]
  },
  {
   "cell_type": "code",
   "execution_count": null,
   "metadata": {},
   "outputs": [
    {
     "name": "stdout",
     "output_type": "stream",
     "text": [
      "2,4\n",
      "-3,9\n",
      "1,5\n"
     ]
    }
   ],
   "source": [
    "# Task-4\n",
    "\n",
    "# def printPairs(arr, target):\n",
    "#     seen = set()\n",
    "#     for num in arr:\n",
    "#         diff = target - num\n",
    "#         if diff in seen:\n",
    "#             print(num, diff, sep=\",\")\n",
    "#         seen.add(num)\n",
    "\n",
    "# arr1 = np.array([7,8,10,5,3,4,2]) \n",
    "# printPairs(arr1, 15)\n",
    "\n",
    "def printPairs(arr,target):\n",
    "    flag=True\n",
    "    for i in range(arr.size):\n",
    "        for j in range(i+1,arr.size):\n",
    "            if(arr[i]+arr[j]==target):\n",
    "                flag=False\n",
    "                print(arr[i],arr[j],sep=\",\")\n",
    "    if(flag):\n",
    "        print(\"No Pair Found\")\n",
    "\n",
    "arr2 = np.array([2,-3,1,9,4,5]) \n",
    "printPairs(arr2, 6)"
   ]
  },
  {
   "cell_type": "code",
   "execution_count": null,
   "metadata": {},
   "outputs": [
    {
     "name": "stdout",
     "output_type": "stream",
     "text": [
      "Dot Product:  95\n",
      "After swapping: \n",
      "[1 5 3 9]\n",
      "[4 2 6 7]\n"
     ]
    }
   ],
   "source": [
    "# Task-5\n",
    "\n",
    "\n",
    "# vec1 = np.array([1,2,3,7]) \n",
    "# vec2 = np.array([4,5,6,9])\n",
    "\n",
    "# dot_product = np.dot(vec1, vec2)\n",
    "# print(\"Dot Product: \", dot_product)\n",
    "\n",
    "# if dot_product & 1:\n",
    "#     vec1[1::2], vec2[1::2] = vec2[1::2], vec1[1::2].copy()\n",
    "# else:\n",
    "#     vec1[::2], vec2[::2] = vec2[::2], vec1[::2].copy()\n",
    "\n",
    "# print(\"After swapping: \")\n",
    "# print(vec1)\n",
    "# print(vec2)\n",
    "\n",
    "vec1 = np.array([1,2,3,7]) \n",
    "vec2 = np.array([4,5,6,9])\n",
    "\n",
    "sum=0\n",
    "for i in range(vec1.size):\n",
    "    sum+=vec1[i]*vec2[i]\n",
    "print(\"Dot Product:\",sum)\n",
    "\n",
    "if(sum&1):\n",
    "    for i in range(vec1.size):\n",
    "        if(i&1):\n",
    "            temp=vec1[i]\n",
    "            vec1[i]=vec2[i]\n",
    "            vec2[i]=temp\n",
    "else:\n",
    "    for i in range(vec1.size):\n",
    "        if(not i&1):\n",
    "            temp=vec1[i]\n",
    "            vec1[i]=vec2[i]\n",
    "            vec2[i]=temp\n",
    "\n",
    "print(\"After swapping: \")\n",
    "print(vec1)\n",
    "print(vec2)\n"
   ]
  },
  {
   "cell_type": "code",
   "execution_count": null,
   "metadata": {},
   "outputs": [
    {
     "name": "stdout",
     "output_type": "stream",
     "text": [
      "Orginal Array:  [0 3 2]\n",
      "Sorted Array:  [0 2 3]\n"
     ]
    }
   ],
   "source": [
    "# Task-6\n",
    "\n",
    "n=int(input())\n",
    "arr=np.zeros(n,dtype=int)\n",
    "for i in range(n):\n",
    "    arr[i]= int(input())\n",
    "\n",
    "print(\"Orginal Array: \",arr)\n",
    "for i in range(n):\n",
    "    min=i\n",
    "    for j in range(i+1,n):\n",
    "        if(arr[j]<arr[min]):\n",
    "            min=j\n",
    "    arr[i], arr[min] = arr[min], arr[i]\n",
    "print(\"Sorted Array: \",arr)"
   ]
  },
  {
   "cell_type": "code",
   "execution_count": null,
   "metadata": {},
   "outputs": [
    {
     "name": "stdout",
     "output_type": "stream",
     "text": [
      "[1 2 3 3 4 5]\n"
     ]
    }
   ],
   "source": [
    "# Task-7\n",
    "\n",
    "def flatten(arr):\n",
    "    row=arr.shape[0]\n",
    "    col=arr.shape[1]\n",
    "    new_arr=np.zeros(row*col,dtype=int)\n",
    "    for i in range(row):\n",
    "        for j in range(col):\n",
    "            new_arr[i*col+j]=arr[i][j]\n",
    "    return new_arr\n",
    "arr1 = np.array( [ [1, 2, 3], [3, 4, 5] ] )\n",
    "arr2 = flatten(arr1) \n",
    "print(arr2)\n"
   ]
  },
  {
   "cell_type": "code",
   "execution_count": null,
   "metadata": {},
   "outputs": [
    {
     "name": "stdout",
     "output_type": "stream",
     "text": [
      "Identity Matrix\n"
     ]
    }
   ],
   "source": [
    "# Task-8\n",
    "\n",
    "\n",
    "A = np.array([ [1, 0, 0], [0, 1, 0],\n",
    "[0, 0, 1] ])\n",
    "row=A.shape[0]\n",
    "col=A.shape[1]\n",
    "\n",
    "flag=True\n",
    "\n",
    "for i in range(row):\n",
    "    for j in range(col):\n",
    "        if((i==j and A[i][j]!=1) or (i!=j and A[i][j]!=0)):\n",
    "            print(\"Not a Identity Matrix\")\n",
    "            flag=False\n",
    "            break\n",
    "    if(not flag):\n",
    "        break\n",
    "if(flag):\n",
    "    print(\"Identity Matrix\")\n",
    "            \n"
   ]
  },
  {
   "cell_type": "code",
   "execution_count": null,
   "metadata": {},
   "outputs": [
    {
     "name": "stdout",
     "output_type": "stream",
     "text": [
      "22\n"
     ]
    }
   ],
   "source": [
    "# Task-9\n",
    "\n",
    "A = np.array([ [1, 5, 12, 1], [2, -4, 6, 7],\n",
    "[3, 8, 5, 9],\n",
    "[3, 5, 23, -6] ])\n",
    "\n",
    "row=A.shape[0]\n",
    "col=A.shape[1]\n",
    "\n",
    "pd=0\n",
    "sd=0\n",
    "\n",
    "for i in range(row):\n",
    "    for j in range(col):\n",
    "        if(i==j):\n",
    "            pd+=A[i][j]\n",
    "        if(i+j==row-1):\n",
    "            sd+=A[i][j]\n",
    "\n",
    "print(abs(pd-sd))"
   ]
  },
  {
   "cell_type": "code",
   "execution_count": null,
   "metadata": {},
   "outputs": [
    {
     "name": "stdout",
     "output_type": "stream",
     "text": [
      "[[1 4 7]\n",
      " [2 5 8]\n",
      " [3 6 9]]\n",
      "[[ 66  78  90]\n",
      " [ 78  93 108]\n",
      " [ 90 108 126]]\n"
     ]
    }
   ],
   "source": [
    "# Task-10\n",
    "A = np.array([[1, 2, 3], [4, 5, 6],\n",
    "[7, 8, 9]])\n",
    "\n",
    "row=A.shape[0]\n",
    "col=A.shape[1]\n",
    "Transpose=np.zeros((col,row),dtype=int)\n",
    "for i in range(col):\n",
    "    for j in range(row):\n",
    "        Transpose[i][j]=A[j][i]\n",
    "print(Transpose)\n",
    "\n",
    "gram=np.zeros((col,col),dtype=int)\n",
    "for i in range(col):\n",
    "    for j in range(col):\n",
    "        for k in range(row):\n",
    "            gram[i][j]+=Transpose[i][k]*A[k][j]\n",
    "\n",
    "print(gram)\n"
   ]
  },
  {
   "cell_type": "code",
   "execution_count": 1,
   "metadata": {},
   "outputs": [
    {
     "name": "stdout",
     "output_type": "stream",
     "text": [
      "[[25.32  6.33 12.66]\n",
      " [56.97 18.99 44.31]]\n"
     ]
    }
   ],
   "source": [
    "# Task-11\n",
    "import numpy as np\n",
    "A = np.array([[4,1,2], [9,3,7]],dtype=float)\n",
    "row=A.shape[0]\n",
    "col=A.shape[1]\n",
    "\n",
    "avg=0\n",
    "for i in range(col):\n",
    "    avg+=A[abs(row-col)%row][i]/col\n",
    "avg=int(avg*100)/100\n",
    "# for i in range(row):\n",
    "#     for j in range(col):\n",
    "#         A[i][j]*=avg\n",
    "print(A*avg)\n"
   ]
  },
  {
   "cell_type": "code",
   "execution_count": null,
   "metadata": {},
   "outputs": [],
   "source": []
  }
 ],
 "metadata": {
  "kernelspec": {
   "display_name": "tensorflow",
   "language": "python",
   "name": "python3"
  },
  "language_info": {
   "codemirror_mode": {
    "name": "ipython",
    "version": 3
   },
   "file_extension": ".py",
   "mimetype": "text/x-python",
   "name": "python",
   "nbconvert_exporter": "python",
   "pygments_lexer": "ipython3",
   "version": "3.10.12"
  }
 },
 "nbformat": 4,
 "nbformat_minor": 2
}
