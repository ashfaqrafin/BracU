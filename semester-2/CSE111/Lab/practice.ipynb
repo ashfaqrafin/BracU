{
 "cells": [
  {
   "cell_type": "code",
   "execution_count": 1,
   "metadata": {},
   "outputs": [
    {
     "name": "stdout",
     "output_type": "stream",
     "text": [
      "5 21 31\n",
      "11 3 45\n",
      "23 59 127\n",
      "30 21 178\n",
      "14 45 72\n",
      "23 12 107\n",
      "47 113 267\n",
      "57 45 369\n"
     ]
    }
   ],
   "source": [
    "# class Quiz1:\n",
    "#     temp = 4\n",
    "#     def __init__(self, p = None):\n",
    "#         if p is None:\n",
    "#             self.y = self.temp - 1\n",
    "#             self.sum = self.temp + 1\n",
    "#             Quiz1.temp += 2\n",
    "#         else:\n",
    "#             self.y = self.temp + p\n",
    "#             self.sum = p + self.temp + 1\n",
    "#             Quiz1.temp -= 1\n",
    "#     def methodA(self):\n",
    "#         x, y = 0, 0\n",
    "#         y = y + self.y\n",
    "#         x = self.y + 2 + self.temp\n",
    "#         self.sum = x + y + self.methodB(x, y)\n",
    "#         print(x, y, self.sum)\n",
    "#     def methodB(self, m, n): \n",
    "#         x=0\n",
    "#         Quiz1.temp += 1\n",
    "#         self.y = self.y + m + (self.temp) \n",
    "#         x=x+2+n\n",
    "#         self.sum = self.sum + x + self.y \n",
    "#         print(x, self.y, self.sum)\n",
    "#         return self.sum\n",
    "# q1 = Quiz1()\n",
    "# q1.methodA()\n",
    "# q1.methodA()\n",
    "# Quiz1.temp += 2\n",
    "# q2 = Quiz1(2)\n",
    "# q2.methodA()\n",
    "# q2.methodA()"
   ]
  },
  {
   "cell_type": "code",
   "execution_count": 2,
   "metadata": {},
   "outputs": [
    {
     "name": "stdout",
     "output_type": "stream",
     "text": [
      "1\n",
      "104\n",
      "613\n",
      "302\n",
      "105\n",
      "0\n",
      "105\n",
      "714\n",
      "2949\n",
      "808\n",
      "819\n",
      "0\n"
     ]
    },
    {
     "data": {
      "text/plain": [
       "819"
      ]
     },
     "execution_count": 2,
     "metadata": {},
     "output_type": "execute_result"
    }
   ],
   "source": [
    "# class Scope:\n",
    "#    def __init__(self):\n",
    "#         self.x=1\n",
    "#         self.y=100\n",
    "#    def met1(self):\n",
    "#         x=3\n",
    "#         x = self.x + 1\n",
    "#         self.y = self.y + self.x + 1\n",
    "#         x = self.y + self.met2(x+self.y) + self.y \n",
    "#         print(x)\n",
    "#         print(self.y)\n",
    "#    def met2(self,y=0):\n",
    "#        print(self.x)\n",
    "#        print(y)\n",
    "#        self.x = self.x + y\n",
    "#        self.y = self.y + 200\n",
    "#        return self.x + y\n",
    "# q2 = Scope()\n",
    "# q2.met1()\n",
    "# q2.met2()\n",
    "# q2.met1()\n",
    "# q2.met2()"
   ]
  },
  {
   "cell_type": "code",
   "execution_count": 8,
   "metadata": {},
   "outputs": [
    {
     "name": "stdout",
     "output_type": "stream",
     "text": [
      "14   6   21\n",
      "39   26   86\n",
      "123\n",
      "52   36   123\n",
      "82\n",
      "180   57   319\n"
     ]
    }
   ],
   "source": [
    "class msgClass:\n",
    "    def __init__(self):\n",
    "        self.content = 0\n",
    "class Q5:\n",
    "    def __init__(self):\n",
    "        self.sum = 1\n",
    "        self.x= 2\n",
    "        self.y = 3\n",
    "    def methodA(self):\n",
    "        x, y = 1, 1\n",
    "        msg = []\n",
    "        myMsg = msgClass()\n",
    "        myMsg.content = self.x\n",
    "        msg.append(myMsg)\n",
    "        msg[0].content = self.y + myMsg.content\n",
    "        self.y = self.y + self.methodB(msg[0])\n",
    "        y = self.methodB(msg[0]) + self.y\n",
    "        x = y + self.methodB(msg[0], msg)\n",
    "        print(msg[0].content)\n",
    "        self.sum = x + y + msg[0].content\n",
    "        print(x,\" \", y,\" \", self.sum)\n",
    "    def methodB(self, mg1, mg2 = None):\n",
    "        if mg2 == None:\n",
    "            x, y = 5, 6\n",
    "            y = self.sum + mg1.content\n",
    "            self.y = y + mg1.content\n",
    "            x = self.x + 7 +mg1.content\n",
    "            self.sum = self.sum + x + y\n",
    "            self.x = mg1.content + x +8\n",
    "            print(x, \" \", y,\" \", self.sum)\n",
    "            return y\n",
    "        else: \n",
    "            x=1\n",
    "            self.y += mg2[0].content\n",
    "            mg2[0].content = self.y + mg1.content\n",
    "            self.sum += x + self.y\n",
    "            mg1.content = self.sum - mg2[0].content\n",
    "            print(self.x, \" \",self.y,\" \", self.sum)\n",
    "            return self.sum\n",
    "q = Q5()\n",
    "q.methodA()"
   ]
  },
  {
   "cell_type": "code",
   "execution_count": 13,
   "metadata": {},
   "outputs": [
    {
     "name": "stdout",
     "output_type": "stream",
     "text": [
      "10\n",
      "20\n",
      "8\n",
      "10\n",
      "20\n",
      "8\n",
      "7 15 23\n",
      "16 12 38\n",
      "86 93 191\n"
     ]
    }
   ],
   "source": [
    "class A:\n",
    "    temp = 8\n",
    "    def __init__(self):\n",
    "        self.y = A.temp - 5\n",
    "        self.sum = self.temp + 3\n",
    "        self.temp += 2\n",
    "    def methodA(self, m, n): \n",
    "        x=4\n",
    "        self.y = self.y + m + (A.temp) \n",
    "        x=x-2+n\n",
    "        print(x, self.y, self.sum)\n",
    "        x = self.y + self.methodB(4, -3) \n",
    "        self.sum = self.sum + x + A.temp \n",
    "        self.methodB(-4, self.sum, 3)\n",
    "    def methodB(self, m, n): \n",
    "        y=5\n",
    "        y = y + self.y\n",
    "        self.sum = B.x + y + n\n",
    "        print(B.x, y, self.sum)\n",
    "class B(A):\n",
    "    x = -3\n",
    "    def __init__(self, obj=None):\n",
    "        super().__init__()\n",
    "        if obj != None:\n",
    "            obj.sum = self.temp + 13\n",
    "        self.y = A.temp + 3\n",
    "        self.sum = 6 + A.temp + B.x\n",
    "    def methodB(self, m, n, y=0):\n",
    "        y = y + self.y + n\n",
    "        B.x = m + self.y + n\n",
    "        A.temp+=2\n",
    "        self.sum = B.x + y + A.temp\n",
    "        print(B.x, y, self.sum)\n",
    "        return y\n",
    "b1 = B()\n",
    "b2 = B(b1)\n",
    "b1.methodA(-4, 5)"
   ]
  },
  {
   "cell_type": "code",
   "execution_count": null,
   "metadata": {},
   "outputs": [],
   "source": []
  }
 ],
 "metadata": {
  "kernelspec": {
   "display_name": "Tensorflow",
   "language": "python",
   "name": "tensorflow"
  },
  "language_info": {
   "codemirror_mode": {
    "name": "ipython",
    "version": 3
   },
   "file_extension": ".py",
   "mimetype": "text/x-python",
   "name": "python",
   "nbconvert_exporter": "python",
   "pygments_lexer": "ipython3",
   "version": "3.10.12"
  }
 },
 "nbformat": 4,
 "nbformat_minor": 2
}
