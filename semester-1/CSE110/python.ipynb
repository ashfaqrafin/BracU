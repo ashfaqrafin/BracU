{
 "cells": [
  {
   "cell_type": "code",
   "execution_count": null,
   "metadata": {},
   "outputs": [
    {
     "name": "stdout",
     "output_type": "stream",
     "text": [
      "hello end 4.5 87 False\n",
      "hello world\n"
     ]
    }
   ],
   "source": [
    "print(\"hello\",\"end\",4.5,87,False)\n",
    "print(\"hello world\")"
   ]
  },
  {
   "cell_type": "code",
   "execution_count": null,
   "metadata": {},
   "outputs": [],
   "source": []
  },
  {
   "cell_type": "code",
   "execution_count": 17,
   "metadata": {},
   "outputs": [
    {
     "name": "stdout",
     "output_type": "stream",
     "text": [
      "-5\n"
     ]
    }
   ],
   "source": [
    "# Input\n",
    "something=int(input(\"Enter something: \"))\n",
    "print(something-6)"
   ]
  },
  {
   "cell_type": "code",
   "execution_count": 15,
   "metadata": {},
   "outputs": [
    {
     "name": "stdout",
     "output_type": "stream",
     "text": [
      "3.3333333333333335\n",
      "3\n",
      "1\n",
      "1.1999999999999993\n"
     ]
    }
   ],
   "source": [
    "# Arthemetic Operators\n",
    "\n",
    "# BEDMAS\n",
    "x=10\n",
    "y=3\n",
    "print(x/y)\n",
    "print(x//y)\n",
    "print(x%y)\n",
    "print(10.2%3)"
   ]
  },
  {
   "cell_type": "code",
   "execution_count": 18,
   "metadata": {},
   "outputs": [
    {
     "name": "stdout",
     "output_type": "stream",
     "text": [
      "hello worldhello worldhello world\n"
     ]
    }
   ],
   "source": [
    "# string\n",
    "hello=\"hello world\"\n",
    "x=3\n",
    "print(hello*x)"
   ]
  },
  {
   "cell_type": "code",
   "execution_count": 22,
   "metadata": {},
   "outputs": [
    {
     "name": "stdout",
     "output_type": "stream",
     "text": [
      "Hello nothing\n"
     ]
    }
   ],
   "source": [
    "# if else elif\n",
    "\n",
    "x=input(\"Enter a your name: \")\n",
    "if x==\"Ashfaq\":\n",
    "    print(\"Hello ASHFAQ\")\n",
    "elif x==\"ashfaq\":\n",
    "    print(\"Hello ashfaq\")\n",
    "else:\n",
    "    print(\"Hello nothing\")\n"
   ]
  },
  {
   "cell_type": "code",
   "execution_count": 44,
   "metadata": {},
   "outputs": [
    {
     "name": "stdout",
     "output_type": "stream",
     "text": [
      "(0, 0, 2, 2)\n",
      "['something', False, 'nothing', 4, 5, 6]\n"
     ]
    }
   ],
   "source": [
    "# List and Tuples\n",
    "# []->List->Mutable\n",
    "#()->Tuples->Immutable\n",
    "x=[4,\"something\",False]\n",
    "x.append(\"nothing\")\n",
    "x.extend([4,5,6])\n",
    "x.pop(0)\n",
    "\n",
    "y=(0,0,2,2)\n",
    "print(y)\n",
    "print(x)\n"
   ]
  },
  {
   "cell_type": "code",
   "execution_count": 51,
   "metadata": {},
   "outputs": [
    {
     "name": "stdout",
     "output_type": "stream",
     "text": [
      "1 2 3 4 5 6 7 8 9 \n",
      "\n",
      "0 1\n",
      "1 2\n",
      "2 3\n",
      "3 4\n",
      "4 5\n",
      "5 6\n",
      "6 7\n",
      "7 8\n",
      "8 9\n"
     ]
    }
   ],
   "source": [
    "# for loop\n",
    "# range function-> start,stop,step\n",
    "for i in range(1,10):\n",
    "    print(i,end=\" \")\n",
    "print(\"\\n\")\n",
    "x=[1,2,3,4,5,6,7,8,9]\n",
    "for i,element in enumerate(x):\n",
    "    print(i,element)"
   ]
  },
  {
   "cell_type": "code",
   "execution_count": 57,
   "metadata": {},
   "outputs": [
    {
     "name": "stdout",
     "output_type": "stream",
     "text": [
      "[9, 8, 7, 6, 5, 4, 3, 2, 1]\n"
     ]
    }
   ],
   "source": [
    "# slice operator\n",
    "# slice=[start:stop:step]\n",
    "\n",
    "x=[1,2,3,4,5,6,7,8,9]\n",
    "# slice=x[1:6:2]\n",
    "slice=x[::-1]\n",
    "print(slice)"
   ]
  },
  {
   "cell_type": "code",
   "execution_count": 62,
   "metadata": {},
   "outputs": [
    {
     "name": "stdout",
     "output_type": "stream",
     "text": [
      "{32, 1, 5, 6}\n",
      "{32, 1, 2}\n"
     ]
    }
   ],
   "source": [
    "# set\n",
    "x=set()\n",
    "x.add(2)\n",
    "x.add(1)\n",
    "x.add(32)\n",
    "s={32,5,6,1,5}\n",
    "print(s)\n",
    "print(x)"
   ]
  },
  {
   "cell_type": "code",
   "execution_count": 66,
   "metadata": {},
   "outputs": [
    {
     "name": "stdout",
     "output_type": "stream",
     "text": [
      "['name']\n",
      "dict_values(['Ashfaq'])\n"
     ]
    }
   ],
   "source": [
    "# Dictionary\n",
    "x={}\n",
    "x[\"name\"]=\"Ashfaq\"\n",
    "x [\"age\"]=20\n",
    "del x[\"age\"]\n",
    "print(list(x.keys()))\n",
    "print(x.values())"
   ]
  },
  {
   "cell_type": "code",
   "execution_count": 68,
   "metadata": {},
   "outputs": [
    {
     "name": "stdout",
     "output_type": "stream",
     "text": [
      "5\n"
     ]
    }
   ],
   "source": [
    "# function\n",
    "def hello(a,b):\n",
    "    return a+b;\n",
    "\n",
    "print(hello(2,3))"
   ]
  },
  {
   "cell_type": "code",
   "execution_count": 5,
   "metadata": {},
   "outputs": [
    {
     "name": "stdout",
     "output_type": "stream",
     "text": [
      "0\n",
      "2\n",
      "4\n",
      "6\n",
      "8\n"
     ]
    }
   ],
   "source": [
    "for i in range(0,10):\n",
    "    if(not i&1):\n",
    "       print(i)"
   ]
  },
  {
   "cell_type": "code",
   "execution_count": 2,
   "metadata": {},
   "outputs": [],
   "source": [
    "user_input=int(input())\n",
    "\n",
    "if(user_input%2==0):\n",
    "    print(user_input)"
   ]
  },
  {
   "cell_type": "code",
   "execution_count": 2,
   "metadata": {},
   "outputs": [],
   "source": [
    "count=1\n",
    "test=int(input(f\"{count+1} . enter a number:\"))"
   ]
  },
  {
   "cell_type": "code",
   "execution_count": 7,
   "metadata": {},
   "outputs": [],
   "source": [
    "if(not 1):\n",
    "    print(\"hello\")"
   ]
  },
  {
   "cell_type": "code",
   "execution_count": 8,
   "metadata": {},
   "outputs": [
    {
     "name": "stdout",
     "output_type": "stream",
     "text": [
      "1875\n"
     ]
    }
   ],
   "source": [
    "print(3000-(125*3**2))"
   ]
  },
  {
   "cell_type": "code",
   "execution_count": 15,
   "metadata": {},
   "outputs": [],
   "source": [
    "a=3\n",
    "if(4<=a<=6):\n",
    "    print(\"Breakfast\")"
   ]
  },
  {
   "cell_type": "code",
   "execution_count": 16,
   "metadata": {},
   "outputs": [
    {
     "name": "stdout",
     "output_type": "stream",
     "text": [
      "2\n",
      "10\n",
      "-1\n",
      "100\n",
      "False\n"
     ]
    }
   ],
   "source": [
    "num1 = 10\n",
    "num2 = -3\n",
    "num3 = -1\n",
    "sum = num1 + num2 + num3\n",
    "if (num3 < 0):\n",
    "    print(num3 * -2)\n",
    "else:\n",
    "    print(sum)\n",
    "if (num1 < 5):\n",
    "    print(num1 + 10)\n",
    "elif (num2 == -3):\n",
    "    num2 = num1\n",
    "    print(num2)\n",
    "else:\n",
    "    print(num1 + num2 + num3)\n",
    "if (num1 > 15):\n",
    "    print(num1)\n",
    "elif (num2 == 0):\n",
    "    print(num2 + num3)\n",
    "else:\n",
    "    print(num3)\n",
    "if (sum != 0):\n",
    "    print(100)\n",
    "else:\n",
    "    print(sum + 100)\n",
    "if (num1 > 0 and num2 < 0):\n",
    "    print(num1 == num2)\n",
    "else:\n",
    "    print(\"False\")\n",
    "\n"
   ]
  },
  {
   "cell_type": "code",
   "execution_count": 18,
   "metadata": {},
   "outputs": [
    {
     "name": "stdout",
     "output_type": "stream",
     "text": [
      "False False True False False True False False False True\n"
     ]
    }
   ],
   "source": [
    "var1 = False\n",
    "var2 = False\n",
    "var3 = False\n",
    "var4 = False\n",
    "var5 = False\n",
    "var6 = False\n",
    "result1 = False\n",
    "result2 = False\n",
    "result3 = False\n",
    "result4 = False\n",
    "result5 = False\n",
    "result6 = False\n",
    "result7 = False\n",
    "result8 = False\n",
    "result9 = False\n",
    "result10 = False\n",
    "var1 = ((not True) or True) and False\n",
    "var2 = var1 and False\n",
    "var3 = True and not False\n",
    "var4 = False\n",
    "var5 = True\n",
    "var6 = var3 and False\n",
    "result1 = (var1 and var2) and (40 % 3) > 45 or (var5 and var6)\n",
    "result2 = (var1 or var2) or (result1 and False)\n",
    "result3 = (var1 and result1) or result2 or var5\n",
    "result4 = (var1 or var2) or ((var3 and var1) and False)\n",
    "result5 = (var1 and var2) and (result3 or var1)\n",
    "result6 = ((var3 or (not var2)) and (result5)) or True\n",
    "result7 = (var4 and result1) and ((result1 and False) or True)\n",
    "result8 = ((var1 and result3) and ((not var5) or var6)) and True\n",
    "result9 = ((result2 and var2) or ((not result7) and var1)) and not False\n",
    "result10 = not(var1 and True)\n",
    "print(result1,result2,result3,result4,result5,result6,result7,result8,result9,result10)\n"
   ]
  },
  {
   "cell_type": "code",
   "execution_count": 19,
   "metadata": {},
   "outputs": [
    {
     "name": "stdout",
     "output_type": "stream",
     "text": [
      "False True True True True True False True True False\n"
     ]
    }
   ],
   "source": [
    "var1 = var2 = var3 = var4 = var5 = var6 = False \n",
    "result1 = result2 = result3 = result4 = result5 = result6 = False\n",
    "result7 = result8 = result9 = result10 = False\n",
    "var1 = (not False or False) and True\n",
    "var2 = var1 and True\n",
    "var3 = False and not True\n",
    "var4 = True\n",
    "var5 = False\n",
    "var6 = var3 and True\n",
    "result1 = (var1 and var2) and ( 40 % 3 > 45) or (var5 and var6)\n",
    "result2 = (var1 or var2) or (result1 and False)\n",
    "result3 = (var1 and result1) or result2 or var5\n",
    "result4 = (var1 or var2) or ((var3 and var1) and False)\n",
    "result5 = (var1 and var2) and (result3 or var1)\n",
    "result6 = ((var3 or not var2) and (result5)) or True\n",
    "result7 = (var4 and result1) and ((result1 and False) or True)\n",
    "result8 = ((var1 and result3) and (not var5 or var6)) and True\n",
    "result9 = ((result2 and var2) or (not result7 and var1)) and not False\n",
    "result10 = not (var1 and True)\n",
    "print(result1,result2,result3,result4,result5,result6,result7,result8,result9,result10)\n"
   ]
  },
  {
   "cell_type": "code",
   "execution_count": 1,
   "metadata": {},
   "outputs": [
    {
     "name": "stdout",
     "output_type": "stream",
     "text": [
      "Hello\n",
      "16\n",
      "36\n",
      "3.3333333333333335\n",
      "3\n",
      "0\n",
      "-2.5\n",
      "True\n",
      "False\n",
      "True\n",
      "False\n",
      "True\n",
      "6\n",
      "8\n",
      "288\n",
      "False\n"
     ]
    }
   ],
   "source": [
    "print (\"Hello\") \n",
    "x, y = 6, 10\n",
    "print (x + y)\n",
    "print (x**2)\n",
    "print (y / 3)\n",
    "print (y // 3)\n",
    "print (y % y)\n",
    "print (-5 / 2)\n",
    "print (y > x)\n",
    "print (y == x)\n",
    "print (y >= x)\n",
    "a = True\n",
    "b = False \n",
    "print (a and b)\n",
    "print (a and not b)\n",
    "y = x\n",
    "print (y)\n",
    "x = x + 2\n",
    "print (x)\n",
    "print ( x*y**2)\n",
    "print (x == y*2//2 - 2**(2-1))\n"
   ]
  },
  {
   "cell_type": "code",
   "execution_count": null,
   "metadata": {},
   "outputs": [],
   "source": [
    "print (\"Hello\") \n",
    "\n",
    "\n",
    "\n",
    "\n",
    "print (4+5.5)\n",
    "\n",
    "\n",
    "x, y = 6, 10\n",
    "\n",
    "\n",
    "\n",
    "\n",
    "print (x - y)\n",
    "\n",
    "\n",
    "print (x + y)\n",
    "\n",
    "\n",
    "\n",
    "\n",
    "print (x * y)\n",
    "\n",
    "\n",
    "print (x**2)\n",
    "\n",
    "\n",
    "\n",
    "\n",
    "print (y ** x)\n",
    "\n",
    "\n",
    "print (y / 3)\n",
    "\n",
    "\n",
    "\n",
    "\n",
    "print (x % y)\n",
    "\n",
    "\n",
    "print (y // 3)\n",
    "\n",
    "\n",
    "\n",
    "\n",
    "print (y % x)\n",
    "\n",
    "\n",
    "print (y % y)\n",
    "\n",
    "\n",
    "\n",
    "\n",
    "print (y / y)\n",
    "\n",
    "\n",
    "print (-5 / 2)\n",
    "\n",
    "\n",
    "\n",
    "\n",
    "print (-5 // 2)\n",
    "\n",
    "\n",
    "print (y > x)\n",
    "\n",
    "\n",
    "\n",
    "\n",
    "print (x > y)\n",
    "\n",
    "\n",
    "print (y == x)\n",
    "\n",
    "\n",
    "\n",
    "\n",
    "print (y != x)\n",
    "\n",
    "\n",
    "print (y >= x)\n",
    "\n",
    "\n",
    "\n",
    "\n",
    "print (x <= y)\n",
    "\n",
    "\n",
    "a = True\n",
    "b = False \n",
    "\n",
    "\n",
    "\n",
    "\n",
    "print (a)\n",
    "print (\"b\")\n",
    "\n",
    "\n",
    "print (a and b)\n",
    "\n",
    "\n",
    "\n",
    "\n",
    "print (a or b)\n",
    "\n",
    "\n",
    "print (a and not b)\n",
    "\n",
    "\n",
    "\n",
    "\n",
    "print (not a)\n",
    "\n",
    "\n",
    "y = x\n",
    "\n",
    "\n",
    "\n",
    "\n",
    "print (x)\n",
    "\n",
    "\n",
    "print (y)\n",
    "\n",
    "\n",
    "\n",
    "\n",
    "x -= 2\n",
    "\n",
    "\n",
    "x = x + 2\n",
    "\n",
    "\n",
    "\n",
    "\n",
    "x //= 1\n",
    "\n",
    "\n",
    "print (x)\n",
    "\n",
    "\n",
    "\n",
    "\n",
    "print (x != y and a)\n",
    "\n",
    "\n",
    "print ( x*y**2)\n",
    "\n",
    "\n",
    "\n",
    "\n",
    "print (x+5*4%2-1)\n",
    "\n",
    "\n",
    "print (x == y*2//2 - 2**(2-1))\n",
    "\n",
    "\n",
    "\n",
    "\n",
    "print (x - ((x+y%2) *3)//2)\n",
    "\n",
    "\n",
    "\n"
   ]
  },
  {
   "cell_type": "code",
   "execution_count": 3,
   "metadata": {},
   "outputs": [
    {
     "name": "stdout",
     "output_type": "stream",
     "text": [
      "583\n"
     ]
    }
   ],
   "source": [
    "sum=0\n",
    "for i in range(1,75):\n",
    "    if((i%9==0 or i%7==0) and not(i%9==0 and i%7==0)):\n",
    "        sum+=i\n",
    "print(sum)"
   ]
  },
  {
   "cell_type": "code",
   "execution_count": 7,
   "metadata": {},
   "outputs": [
    {
     "name": "stdout",
     "output_type": "stream",
     "text": [
      "3\n",
      "2\n",
      "4\n"
     ]
    }
   ],
   "source": [
    "x=input()\n",
    "size=len(x)\n",
    "x=int(x)\n",
    "size=10**(size-1)\n",
    "\n",
    "while(x>0):\n",
    "    print(x//size)\n",
    "    x%=size\n",
    "    size//=10"
   ]
  },
  {
   "cell_type": "code",
   "execution_count": 17,
   "metadata": {},
   "outputs": [
    {
     "name": "stdout",
     "output_type": "stream",
     "text": [
      "33 is not prime or perfect number\n"
     ]
    }
   ],
   "source": [
    "import math\n",
    "x=int(input())\n",
    "isPrime=True\n",
    "for i in range(2,int(math.sqrt(x))+1):\n",
    "    if(x%i==0):\n",
    "        isPrime=False\n",
    "        break\n",
    "\n",
    "if(isPrime):\n",
    "    print(f\"{x} is a prime number\")\n",
    "else:\n",
    "    sum=0\n",
    "    for i in range(1,x):\n",
    "        if(x%i==0):\n",
    "            sum+=i\n",
    "    print({True:f\"{x} is a perfect number\",False:f\"{x} is not prime or perfect number\"}[sum==x])"
   ]
  },
  {
   "cell_type": "code",
   "execution_count": 24,
   "metadata": {},
   "outputs": [
    {
     "name": "stdout",
     "output_type": "stream",
     "text": [
      "Minimum 0\n",
      "Maximum 0\n",
      "Average 0.0\n"
     ]
    }
   ],
   "source": [
    "\n",
    "n=int(input())\n",
    "minimum,maximum=0,0\n",
    "sum=0\n",
    "for i in range(i,n):\n",
    "    given=int(input())\n",
    "    if(not i):\n",
    "        minimum=maximum=given\n",
    "    else:\n",
    "        if(given<minimum):\n",
    "            minimum=given\n",
    "        if(given>maximum):\n",
    "            maximum=given\n",
    "    sum+=given\n",
    "print(f\"Minimum {minimum}\\nMaximum {maximum}\\nAverage {sum/n}\")\n"
   ]
  },
  {
   "cell_type": "code",
   "execution_count": 29,
   "metadata": {},
   "outputs": [
    {
     "ename": "TypeError",
     "evalue": "cannot unpack non-iterable int object",
     "output_type": "error",
     "traceback": [
      "\u001b[0;31m---------------------------------------------------------------------------\u001b[0m",
      "\u001b[0;31mTypeError\u001b[0m                                 Traceback (most recent call last)",
      "\u001b[1;32m/Users/ashfaqkhanrafin/Codes/BracU/semester-1/CSE110/python.ipynb Cell 28\u001b[0m line \u001b[0;36m2\n\u001b[1;32m      <a href='vscode-notebook-cell:/Users/ashfaqkhanrafin/Codes/BracU/semester-1/CSE110/python.ipynb#X36sZmlsZQ%3D%3D?line=0'>1</a>\u001b[0m n\u001b[39m=\u001b[39m\u001b[39mint\u001b[39m(\u001b[39minput\u001b[39m())\n\u001b[0;32m----> <a href='vscode-notebook-cell:/Users/ashfaqkhanrafin/Codes/BracU/semester-1/CSE110/python.ipynb#X36sZmlsZQ%3D%3D?line=1'>2</a>\u001b[0m minimum,maximum\u001b[39m=\u001b[39m\u001b[39m0\u001b[39m\n\u001b[1;32m      <a href='vscode-notebook-cell:/Users/ashfaqkhanrafin/Codes/BracU/semester-1/CSE110/python.ipynb#X36sZmlsZQ%3D%3D?line=2'>3</a>\u001b[0m \u001b[39msum\u001b[39m\u001b[39m=\u001b[39m\u001b[39m0\u001b[39m\n\u001b[1;32m      <a href='vscode-notebook-cell:/Users/ashfaqkhanrafin/Codes/BracU/semester-1/CSE110/python.ipynb#X36sZmlsZQ%3D%3D?line=3'>4</a>\u001b[0m \u001b[39mfor\u001b[39;00m i \u001b[39min\u001b[39;00m \u001b[39mrange\u001b[39m(\u001b[39m0\u001b[39m,n):\n",
      "\u001b[0;31mTypeError\u001b[0m: cannot unpack non-iterable int object"
     ]
    }
   ],
   "source": [
    "\n",
    "n=int(input())\n",
    "minimum,maximum=0,0\n",
    "sum=0\n",
    "for i in range(0,n):\n",
    "    given=int(input())\n",
    "    if(not i):\n",
    "        minimum=maximum=given\n",
    "    else:\n",
    "        if(given<minimum):\n",
    "            minimum=given\n",
    "        if(given>maximum):\n",
    "            maximum=given\n",
    "    sum+=given\n",
    "print(f\"Maximum {maximum}\\nMinimum {minimum}\\nAverage {sum/n}\")"
   ]
  },
  {
   "cell_type": "code",
   "execution_count": 32,
   "metadata": {},
   "outputs": [
    {
     "name": "stdout",
     "output_type": "stream",
     "text": [
      "True\n"
     ]
    }
   ],
   "source": [
    "print(not 0)"
   ]
  },
  {
   "cell_type": "code",
   "execution_count": 35,
   "metadata": {},
   "outputs": [
    {
     "name": "stdout",
     "output_type": "stream",
     "text": [
      "1\n",
      "12\n",
      "123\n",
      "1234\n",
      "12345\n"
     ]
    }
   ],
   "source": [
    "for i in range(1,6):\n",
    "    for j in range(1,i+1):\n",
    "        print(j,end=\"\")\n",
    "    print()"
   ]
  },
  {
   "cell_type": "code",
   "execution_count": 36,
   "metadata": {},
   "outputs": [
    {
     "name": "stdout",
     "output_type": "stream",
     "text": [
      "0.3333333333333333\n"
     ]
    }
   ],
   "source": [
    "print(int(5/3)/3.0%2**3)"
   ]
  },
  {
   "cell_type": "code",
   "execution_count": 37,
   "metadata": {},
   "outputs": [
    {
     "name": "stdout",
     "output_type": "stream",
     "text": [
      "0\n",
      "2\n",
      "8.0\n",
      "6\n",
      "13.0\n",
      "5\n",
      "10\n",
      "9\n",
      "14\n",
      "4.5\n"
     ]
    }
   ],
   "source": [
    "x,y,sum,q=0,0,0,0\n",
    "\n",
    "while(x<10):\n",
    "    p=0.0\n",
    "    p=x+y-sum+int(5/3)/3.0%2**3\n",
    "    y=x//5\n",
    "    while(y<x):\n",
    "        q=(x+10.0)/2\n",
    "        sum=(sum%2)+y+int(p)\n",
    "        print(sum)\n",
    "        y+=4\n",
    "    if(x>5):\n",
    "        x+=3\n",
    "    else:\n",
    "        x+=2\n",
    "        print(int(p)+q)\n",
    "print(sum-q)"
   ]
  },
  {
   "cell_type": "code",
   "execution_count": 38,
   "metadata": {},
   "outputs": [
    {
     "name": "stdout",
     "output_type": "stream",
     "text": [
      "41\n",
      "85\n",
      "135\n",
      "189\n",
      "249\n",
      "313\n",
      "383\n",
      "457\n",
      "537\n",
      "621\n"
     ]
    }
   ],
   "source": [
    "test,j,k=1,0,100\n",
    "while(k>0):\n",
    "    while(j<k):\n",
    "        test+=k+j-21\n",
    "        print(1+int(test/2))\n",
    "        j+=10\n",
    "    k-=10\n",
    "    test=1"
   ]
  },
  {
   "cell_type": "code",
   "execution_count": 40,
   "metadata": {},
   "outputs": [
    {
     "name": "stdout",
     "output_type": "stream",
     "text": [
      "-8\n",
      "-6\n",
      "-1\n",
      "-4\n",
      "2\n",
      "-2\n",
      "5\n",
      "0\n",
      "8\n",
      "27\n"
     ]
    }
   ],
   "source": [
    "p,r=0,0\n",
    "while(p<7):\n",
    "    q=1\n",
    "    while(q<=p):\n",
    "        q+=1\n",
    "        if q==4 or q==5:\n",
    "            continue\n",
    "        elif p==6:\n",
    "            break\n",
    "        else:\n",
    "            r=p*q-int(21/q)\n",
    "            print(r)\n",
    "    p+=1"
   ]
  },
  {
   "cell_type": "code",
   "execution_count": 7,
   "metadata": {},
   "outputs": [
    {
     "name": "stdout",
     "output_type": "stream",
     "text": [
      "8\n"
     ]
    }
   ],
   "source": [
    "print(1*2*4)"
   ]
  },
  {
   "cell_type": "code",
   "execution_count": 7,
   "metadata": {},
   "outputs": [
    {
     "name": "stdout",
     "output_type": "stream",
     "text": [
      "57\n"
     ]
    }
   ],
   "source": [
    "print(ord(\"9\"))"
   ]
  },
  {
   "cell_type": "code",
   "execution_count": 12,
   "metadata": {},
   "outputs": [
    {
     "name": "stdout",
     "output_type": "stream",
     "text": [
      "hello\n"
     ]
    }
   ],
   "source": [
    "a=6\n",
    "\n",
    "if( not 1<=a<=5):\n",
    "    print(\"hello\")"
   ]
  },
  {
   "cell_type": "code",
<<<<<<< HEAD
   "execution_count": 3,
   "metadata": {},
   "outputs": [
    {
     "name": "stdout",
     "output_type": "stream",
     "text": [
      "False True True True True True False True True False\n"
     ]
    }
   ],
   "source": [
    "var1 = var2 = var3 = var4 = var5 = var6 = False \n",
    "result1 = result2 = result3 = result4 = result5 = result6 = False\n",
    "result7 = result8 = result9 = result10 = False\n",
    "var1 = (not False or False) and True\n",
    "var2 = var1 and True\n",
    "var3 = False and not True\n",
    "var4 = True\n",
    "var5 = False\n",
    "var6 = var3 and True\n",
    "result1 = (var1 and var2) and ( 40 % 3 > 45) or (var5 and var6)\n",
    "result2 = (var1 or var2) or (result1 and False)\n",
    "result3 = (var1 and result1) or result2 or var5\n",
    "result4 = (var1 or var2) or ((var3 and var1) and False)\n",
    "result5 = (var1 and var2) and (result3 or var1)\n",
    "result6 = ((var3 or not var2) and (result5)) or True\n",
    "result7 = (var4 and result1) and ((result1 and False) or True)\n",
    "result8 = ((var1 and result3) and (not var5 or var6)) and True\n",
    "result9 = ((result2 and var2) or (not result7 and var1)) and not False\n",
    "result10 = not (var1 and True)\n",
    "\n",
    "print(result1,result2,result3,result4,result5,result6,result7,result8,result9,result10)\n",
    "\n"
   ]
  },
  {
   "cell_type": "code",
   "execution_count": 4,
   "metadata": {},
   "outputs": [
    {
     "name": "stdout",
     "output_type": "stream",
     "text": [
      "[1, 2, 3, 4, 5]\n",
      "[2, 3]\n"
     ]
    }
   ],
   "source": [
    "test=[1,2,3,4,5]\n",
    "print(test[:])\n",
    "print(test[slice(1,3)])"
   ]
  },
  {
   "cell_type": "code",
   "execution_count": 8,
   "metadata": {},
   "outputs": [
    {
     "name": "stdout",
     "output_type": "stream",
     "text": [
      "(0, 2)\n",
      "(1, 3)\n",
      "(2, 3)\n",
      "(3, 4)\n",
      "(4, 2)\n",
      "(5, 6)\n",
      "(6, 7)\n",
      "(7, 8)\n",
      "(8, 9)\n"
     ]
    }
   ],
   "source": [
    "enumerate"
   ]
  },
  {
   "cell_type": "code",
=======
>>>>>>> origin/master
   "execution_count": null,
   "metadata": {},
   "outputs": [],
   "source": []
  }
 ],
 "metadata": {
  "kernelspec": {
   "display_name": "base",
   "language": "python",
   "name": "python3"
  },
  "language_info": {
   "codemirror_mode": {
    "name": "ipython",
    "version": 3
   },
   "file_extension": ".py",
   "mimetype": "text/x-python",
   "name": "python",
   "nbconvert_exporter": "python",
   "pygments_lexer": "ipython3",
   "version": "3.11.6"
  },
  "orig_nbformat": 4
 },
 "nbformat": 4,
 "nbformat_minor": 2
}
