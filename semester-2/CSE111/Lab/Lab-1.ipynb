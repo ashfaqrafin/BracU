{
 "cells": [
  {
   "cell_type": "code",
   "execution_count": 3,
   "metadata": {},
   "outputs": [
    {
     "name": "stdout",
     "output_type": "stream",
     "text": [
      "20 - 1 times\n",
      "10 - 1 times\n"
     ]
    }
   ],
   "source": [
    "# Question-1\n",
    "\n",
    "def print_frequency():\n",
    "    numbers = []\n",
    "    while True:\n",
    "        num = input()\n",
    "        if num == 'STOP':\n",
    "            break\n",
    "        numbers.append(num)\n",
    "\n",
    "    for num in numbers:\n",
    "        print(f\"{num} - {numbers.count(num)} times\")\n",
    "\n",
    "print_frequency()"
   ]
  },
  {
   "cell_type": "code",
   "execution_count": 6,
   "metadata": {},
   "outputs": [
    {
     "name": "stdout",
     "output_type": "stream",
     "text": [
      "18\n",
      "[4, 5, 6, 3]\n"
     ]
    }
   ],
   "source": [
    "# Question-2\n",
    "def calculate_sum():\n",
    "    N = int(input())\n",
    "    max_sum = 0\n",
    "    max_list = []\n",
    "    for _ in range(N):\n",
    "        numbers = list(map(int, input().split()))\n",
    "        current_sum = sum(numbers)\n",
    "        if current_sum > max_sum:\n",
    "            max_sum = current_sum\n",
    "            max_list = numbers\n",
    "    print(max_sum)\n",
    "    print(max_list)\n",
    "\n",
    "calculate_sum()"
   ]
  },
  {
   "cell_type": "code",
   "execution_count": 7,
   "metadata": {},
   "outputs": [],
   "source": [
    "# Question-3\n",
    "def cross_multiply():\n",
    "    list1 = list(map(int, input().split()))\n",
    "    list2 = list(map(int, input().split()))\n",
    "    result = [a*b for a in list1 for b in list2]\n",
    "    print(result)\n",
    "\n",
    "cross_multiply()\n",
    "# way-2\n",
    "def cross_multiply():\n",
    "    list1 = input().split()\n",
    "    list2 = input().split()\n",
    "\n",
    "    # Convert strings to integers\n",
    "    for i in range(len(list1)):\n",
    "        list1[i] = int(list1[i])\n",
    "    for i in range(len(list2)):\n",
    "        list2[i] = int(list2[i])\n",
    "\n",
    "    # Cross multiply\n",
    "    result = []\n",
    "    for a in list1:\n",
    "        for b in list2:\n",
    "            result.append(a * b)\n",
    "\n",
    "    # Print the result\n",
    "    for num in result:\n",
    "        print(num, end=' ')\n",
    "    print()\n",
    "\n",
    "cross_multiply()"
   ]
  },
  {
   "cell_type": "code",
   "execution_count": 1,
   "metadata": {},
   "outputs": [
    {
     "name": "stdout",
     "output_type": "stream",
     "text": [
      "UB Jumper\n",
      "Not UB Jumper\n"
     ]
    }
   ],
   "source": [
    "# Question-4\n",
    "def is_ub_jumper(sequence):\n",
    "    differences = []\n",
    "    for i in range(len(sequence) - 1):\n",
    "        differences.append(abs(sequence[i] - sequence[i + 1]))\n",
    "\n",
    "    for i in range(1, len(sequence)):\n",
    "        if i not in differences:\n",
    "            return \"Not UB Jumper\"\n",
    "    return \"UB Jumper\"\n",
    "\n",
    "while True:\n",
    "    line = input()\n",
    "    if line == \"STOP\":\n",
    "        break\n",
    "    sequence = []\n",
    "    for num in line.split():\n",
    "        sequence.append(int(num))\n",
    "    print(is_ub_jumper(sequence))"
   ]
  },
  {
   "cell_type": "code",
   "execution_count": 2,
   "metadata": {},
   "outputs": [
    {
     "name": "stdout",
     "output_type": "stream",
     "text": [
      "acruB1324\n"
     ]
    }
   ],
   "source": [
    "# Question-5\n",
    "def sort_string(s):\n",
    "    lower = []\n",
    "    upper = []\n",
    "    odd = []\n",
    "    even = []\n",
    "\n",
    "    for char in s:\n",
    "        if 'a' <= char <= 'z':\n",
    "            lower.append(char)\n",
    "        elif 'A' <= char <= 'Z':\n",
    "            upper.append(char)\n",
    "        elif '0' <= char <= '9':\n",
    "            if int(char) % 2 == 0:\n",
    "                even.append(char)\n",
    "            else:\n",
    "                odd.append(char)\n",
    "\n",
    "    def bubble_sort(lst):\n",
    "        for i in range(len(lst)):\n",
    "            for j in range(len(lst) - 1):\n",
    "                if lst[j] > lst[j + 1]:\n",
    "                    lst[j], lst[j + 1] = lst[j + 1], lst[j]\n",
    "\n",
    "    bubble_sort(lower)\n",
    "    bubble_sort(upper)\n",
    "    bubble_sort(odd)\n",
    "    bubble_sort(even)\n",
    "\n",
    "    return ''.join(lower + upper + odd + even)\n",
    "\n",
    "print(sort_string(\"Bracu1234\"))"
   ]
  },
  {
   "cell_type": "code",
   "execution_count": 1,
   "metadata": {},
   "outputs": [
    {
     "ename": "IndexError",
     "evalue": "list index out of range",
     "output_type": "error",
     "traceback": [
      "\u001b[0;31m---------------------------------------------------------------------------\u001b[0m",
      "\u001b[0;31mIndexError\u001b[0m                                Traceback (most recent call last)",
      "Cell \u001b[0;32mIn[1], line 3\u001b[0m\n\u001b[1;32m      1\u001b[0m \u001b[38;5;66;03m# Read the first line of input\u001b[39;00m\n\u001b[1;32m      2\u001b[0m line \u001b[38;5;241m=\u001b[39m \u001b[38;5;28minput\u001b[39m()\u001b[38;5;241m.\u001b[39msplit()\n\u001b[0;32m----> 3\u001b[0m n \u001b[38;5;241m=\u001b[39m \u001b[38;5;28mint\u001b[39m(\u001b[43mline\u001b[49m\u001b[43m[\u001b[49m\u001b[38;5;241;43m0\u001b[39;49m\u001b[43m]\u001b[49m)\n\u001b[1;32m      4\u001b[0m k \u001b[38;5;241m=\u001b[39m \u001b[38;5;28mint\u001b[39m(line[\u001b[38;5;241m1\u001b[39m])\n\u001b[1;32m      6\u001b[0m \u001b[38;5;66;03m# Read the second line of input\u001b[39;00m\n",
      "\u001b[0;31mIndexError\u001b[0m: list index out of range"
     ]
    }
   ],
   "source": [
    "# Read the first line of input\n",
    "line = input().split()\n",
    "n = int(line[0])\n",
    "k = int(line[1])\n",
    "\n",
    "# Read the second line of input\n",
    "line = input().split()\n",
    "participations = []\n",
    "for i in range(n):\n",
    "    participations.append(int(line[i]))\n",
    "\n",
    "# Initialize the count array\n",
    "count = [0, 0, 0, 0, 0, 0]\n",
    "\n",
    "# Count the number of participations\n",
    "for p in participations:\n",
    "    count[p] += 1\n",
    "\n",
    "# Calculate the number of teams\n",
    "teams = 0\n",
    "i = 5\n",
    "while i >= k:\n",
    "    teams += count[i]\n",
    "    count[i] = 0\n",
    "    if i > k:\n",
    "        transfer = count[i - 1] if count[i - 1] < teams * 3 - count[5] else teams * 3 - count[5]\n",
    "        teams -= transfer // 3\n",
    "        count[i - 1] -= transfer\n",
    "    i -= 1\n",
    "\n",
    "# Print the number of teams\n",
    "print(teams)\n",
    "\n"
   ]
  },
  {
   "cell_type": "code",
   "execution_count": 3,
   "metadata": {},
   "outputs": [
    {
     "name": "stdout",
     "output_type": "stream",
     "text": [
      "{'p': 2, 'y': 1, 't': 1, 'h': 1, 'o': 2, 'n': 3, 'r': 2, 'g': 2, 'a': 1, 'm': 2, 'i': 2, 's': 1, 'f': 1, 'u': 1}\n"
     ]
    }
   ],
   "source": [
    "line=input()\n",
    "something={}\n",
    "\n",
    "for i in line:\n",
    "    if(i==' '):\n",
    "        continue\n",
    "    i=i.lower()\n",
    "    if(i in something):\n",
    "        something[i]+=1\n",
    "    else:\n",
    "        something.update({i:1})\n",
    "print(something)"
   ]
  },
  {
   "cell_type": "code",
   "execution_count": null,
   "metadata": {},
   "outputs": [],
   "source": [
    "line1=input()\n",
    "line2=input()\n",
    "\n",
    "d1={}\n",
    "d2={}\n",
    "\n",
    "for i in line1:\n",
    "    if(i in d1):\n",
    "        d1[i]+=1\n",
    "    else:\n",
    "        d1.update({i:1})\n",
    "for i in line2:\n",
    "    if(i in d2):\n",
    "        d2[i]+=1\n",
    "    else:\n",
    "        d2.update({i:1})\n",
    "if(d1==d2):\n",
    "    print(\"Those strings are anagrams.\")\n",
    "else:\n",
    "    print(\"Not are anagrams.\")"
   ]
  }
 ],
 "metadata": {
  "kernelspec": {
   "display_name": "tensorflow",
   "language": "python",
   "name": "python3"
  },
  "language_info": {
   "codemirror_mode": {
    "name": "ipython",
    "version": 3
   },
   "file_extension": ".py",
   "mimetype": "text/x-python",
   "name": "python",
   "nbconvert_exporter": "python",
   "pygments_lexer": "ipython3",
   "version": "3.11.6"
  }
 },
 "nbformat": 4,
 "nbformat_minor": 2
}
