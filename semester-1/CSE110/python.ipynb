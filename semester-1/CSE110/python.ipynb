{
 "cells": [
  {
   "cell_type": "code",
   "execution_count": null,
   "metadata": {},
   "outputs": [
    {
     "name": "stdout",
     "output_type": "stream",
     "text": [
      "hello end 4.5 87 False\n",
      "hello world\n"
     ]
    }
   ],
   "source": [
    "print(\"hello\",\"end\",4.5,87,False)\n",
    "print(\"hello world\")"
   ]
  },
  {
   "cell_type": "code",
   "execution_count": 17,
   "metadata": {},
   "outputs": [
    {
     "name": "stdout",
     "output_type": "stream",
     "text": [
      "-5\n"
     ]
    }
   ],
   "source": [
    "# Input\n",
    "something=int(input(\"Enter something: \"))\n",
    "print(something-6)"
   ]
  },
  {
   "cell_type": "code",
   "execution_count": 15,
   "metadata": {},
   "outputs": [
    {
     "name": "stdout",
     "output_type": "stream",
     "text": [
      "3.3333333333333335\n",
      "3\n",
      "1\n",
      "1.1999999999999993\n"
     ]
    }
   ],
   "source": [
    "# Arthemetic Operators\n",
    "\n",
    "# BEDMAS\n",
    "x=10\n",
    "y=3\n",
    "print(x/y)\n",
    "print(x//y)\n",
    "print(x%y)\n",
    "print(10.2%3)"
   ]
  },
  {
   "cell_type": "code",
   "execution_count": 18,
   "metadata": {},
   "outputs": [
    {
     "name": "stdout",
     "output_type": "stream",
     "text": [
      "hello worldhello worldhello world\n"
     ]
    }
   ],
   "source": [
    "# string\n",
    "hello=\"hello world\"\n",
    "x=3\n",
    "print(hello*x)"
   ]
  },
  {
   "cell_type": "code",
   "execution_count": 22,
   "metadata": {},
   "outputs": [
    {
     "name": "stdout",
     "output_type": "stream",
     "text": [
      "Hello nothing\n"
     ]
    }
   ],
   "source": [
    "# if else elif\n",
    "\n",
    "x=input(\"Enter a your name: \")\n",
    "if x==\"Ashfaq\":\n",
    "    print(\"Hello ASHFAQ\")\n",
    "elif x==\"ashfaq\":\n",
    "    print(\"Hello ashfaq\")\n",
    "else:\n",
    "    print(\"Hello nothing\")\n"
   ]
  },
  {
   "cell_type": "code",
   "execution_count": 44,
   "metadata": {},
   "outputs": [
    {
     "name": "stdout",
     "output_type": "stream",
     "text": [
      "(0, 0, 2, 2)\n",
      "['something', False, 'nothing', 4, 5, 6]\n"
     ]
    }
   ],
   "source": [
    "# List and Tuples\n",
    "# []->List->Mutable\n",
    "#()->Tuples->Immutable\n",
    "x=[4,\"something\",False]\n",
    "x.append(\"nothing\")\n",
    "x.extend([4,5,6])\n",
    "x.pop(0)\n",
    "\n",
    "y=(0,0,2,2)\n",
    "print(y)\n",
    "print(x)\n"
   ]
  },
  {
   "cell_type": "code",
   "execution_count": 51,
   "metadata": {},
   "outputs": [
    {
     "name": "stdout",
     "output_type": "stream",
     "text": [
      "1 2 3 4 5 6 7 8 9 \n",
      "\n",
      "0 1\n",
      "1 2\n",
      "2 3\n",
      "3 4\n",
      "4 5\n",
      "5 6\n",
      "6 7\n",
      "7 8\n",
      "8 9\n"
     ]
    }
   ],
   "source": [
    "# for loop\n",
    "# range function-> start,stop,step\n",
    "for i in range(1,10):\n",
    "    print(i,end=\" \")\n",
    "print(\"\\n\")\n",
    "x=[1,2,3,4,5,6,7,8,9]\n",
    "for i,element in enumerate(x):\n",
    "    print(i,element)"
   ]
  },
  {
   "cell_type": "code",
   "execution_count": 57,
   "metadata": {},
   "outputs": [
    {
     "name": "stdout",
     "output_type": "stream",
     "text": [
      "[9, 8, 7, 6, 5, 4, 3, 2, 1]\n"
     ]
    }
   ],
   "source": [
    "# slice operator\n",
    "# slice=[start:stop:step]\n",
    "\n",
    "x=[1,2,3,4,5,6,7,8,9]\n",
    "# slice=x[1:6:2]\n",
    "slice=x[::-1]\n",
    "print(slice)"
   ]
  },
  {
   "cell_type": "code",
   "execution_count": 62,
   "metadata": {},
   "outputs": [
    {
     "name": "stdout",
     "output_type": "stream",
     "text": [
      "{32, 1, 5, 6}\n",
      "{32, 1, 2}\n"
     ]
    }
   ],
   "source": [
    "# set\n",
    "x=set()\n",
    "x.add(2)\n",
    "x.add(1)\n",
    "x.add(32)\n",
    "s={32,5,6,1,5}\n",
    "print(s)\n",
    "print(x)"
   ]
  },
  {
   "cell_type": "code",
   "execution_count": 64,
   "metadata": {},
   "outputs": [
    {
     "name": "stdout",
     "output_type": "stream",
     "text": [
      "dict_keys(['name', 'age'])\n",
      "dict_values(['Ashfaq', 20])\n"
     ]
    }
   ],
   "source": [
    "# Dictionary\n",
    "x={}\n",
    "x[\"name\"]=\"Ashfaq\"\n",
    "x [\"age\"]=20\n",
    "print(list(x.keys()))\n",
    "print(x.values())"
   ]
  },
  {
   "cell_type": "code",
   "execution_count": null,
   "metadata": {},
   "outputs": [],
   "source": []
  }
 ],
 "metadata": {
  "kernelspec": {
   "display_name": "base",
   "language": "python",
   "name": "python3"
  },
  "language_info": {
   "codemirror_mode": {
    "name": "ipython",
    "version": 3
   },
   "file_extension": ".py",
   "mimetype": "text/x-python",
   "name": "python",
   "nbconvert_exporter": "python",
   "pygments_lexer": "ipython3",
   "version": "3.11.4"
  },
  "orig_nbformat": 4
 },
 "nbformat": 4,
 "nbformat_minor": 2
}
